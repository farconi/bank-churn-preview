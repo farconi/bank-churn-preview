{
 "cells": [
  {
   "cell_type": "markdown",
   "metadata": {},
   "source": [
    "# Bank Customer Churn Prediction"
   ]
  },
  {
   "cell_type": "markdown",
   "metadata": {},
   "source": [
    "## Introduction:\n",
    "In the \"Bank Customer Churn Prediction\" project, our goal is to help the bank retain its existing customers by identifying those who are most likely to leave the bank soon. For this, we will use data on past customer behavior and contract terminations. By building a high-quality predictive model, we will be able to take proactive measures to prevent customers from leaving the bank, saving resources and keeping the customer base stable."
   ]
  },
  {
   "cell_type": "markdown",
   "metadata": {},
   "source": [
    "## Data Preparation"
   ]
  },
  {
   "cell_type": "markdown",
   "metadata": {},
   "source": [
    "In the \"Data Preparation\" section, we will take the essential steps to ensure that the data is ready to be used in building Beta Bank's customer churn prediction model. We will follow a systematic approach to processing different types of features and perform necessary treatments to deal with missing data.\n",
    "\n",
    "First, we will import the data from the file provided, called \"Churn.csv\". We will then perform an initial exploration of the data to understand its structure and identify potential issues or quirks that need to be addressed.\n",
    "\n",
    "During the preparation process, we will check for missing data and take appropriate action to address it, ensuring it does not negatively affect model performance. Additionally, we'll cover coding for categorical variables, as many machine learning algorithms require variables to be represented numerically.\n",
    "\n",
    "Finally, we'll split the data into training and test sets so that we can evaluate the model's performance on a previously unseen dataset. This step is critical to ensuring that the model is able to generalize and make accurate predictions on new data.\n",
    "\n",
    "At the end of this section, we will have the data duly prepared and structured, ready to be used in the next stages of the project, such as the analysis of the class balance and the construction of the predictive model."
   ]
  },
  {
   "cell_type": "markdown",
   "metadata": {},
   "source": [
    "### Importing Libraries and Data"
   ]
  },
  {
   "cell_type": "code",
   "execution_count": 79,
   "metadata": {
    "scrolled": false
   },
   "outputs": [],
   "source": [
    "# Importing the necessary libraries for the project\n",
    "import pandas as pd\n",
    "import matplotlib.pyplot as plt\n",
    "import seaborn as sns\n",
    "import numpy as np\n",
    "from sklearn import preprocessing\n",
    "from sklearn.linear_model import LogisticRegression\n",
    "from sklearn.metrics import classification_report, accuracy_score, f1_score, roc_auc_score, mean_squared_error\n",
    "from sklearn.model_selection import train_test_split\n",
    "from sklearn.utils import resample\n",
    "from sklearn.preprocessing import StandardScaler\n",
    "from sklearn.linear_model import LogisticRegression\n",
    "from sklearn.tree import DecisionTreeClassifier\n",
    "from sklearn.ensemble import RandomForestClassifier\n",
    "from sklearn.model_selection import GridSearchCV"
   ]
  },
  {
   "cell_type": "code",
   "execution_count": 80,
   "metadata": {},
   "outputs": [
    {
     "data": {
      "text/html": [
       "<div>\n",
       "<style scoped>\n",
       "    .dataframe tbody tr th:only-of-type {\n",
       "        vertical-align: middle;\n",
       "    }\n",
       "\n",
       "    .dataframe tbody tr th {\n",
       "        vertical-align: top;\n",
       "    }\n",
       "\n",
       "    .dataframe thead th {\n",
       "        text-align: right;\n",
       "    }\n",
       "</style>\n",
       "<table border=\"1\" class=\"dataframe\">\n",
       "  <thead>\n",
       "    <tr style=\"text-align: right;\">\n",
       "      <th></th>\n",
       "      <th>RowNumber</th>\n",
       "      <th>CustomerId</th>\n",
       "      <th>Surname</th>\n",
       "      <th>CreditScore</th>\n",
       "      <th>Geography</th>\n",
       "      <th>Gender</th>\n",
       "      <th>Age</th>\n",
       "      <th>Tenure</th>\n",
       "      <th>Balance</th>\n",
       "      <th>NumOfProducts</th>\n",
       "      <th>HasCrCard</th>\n",
       "      <th>IsActiveMember</th>\n",
       "      <th>EstimatedSalary</th>\n",
       "      <th>Exited</th>\n",
       "    </tr>\n",
       "  </thead>\n",
       "  <tbody>\n",
       "    <tr>\n",
       "      <th>0</th>\n",
       "      <td>1</td>\n",
       "      <td>15634602</td>\n",
       "      <td>Hargrave</td>\n",
       "      <td>619</td>\n",
       "      <td>France</td>\n",
       "      <td>Female</td>\n",
       "      <td>42</td>\n",
       "      <td>2.0</td>\n",
       "      <td>0.00</td>\n",
       "      <td>1</td>\n",
       "      <td>1</td>\n",
       "      <td>1</td>\n",
       "      <td>101348.88</td>\n",
       "      <td>1</td>\n",
       "    </tr>\n",
       "    <tr>\n",
       "      <th>1</th>\n",
       "      <td>2</td>\n",
       "      <td>15647311</td>\n",
       "      <td>Hill</td>\n",
       "      <td>608</td>\n",
       "      <td>Spain</td>\n",
       "      <td>Female</td>\n",
       "      <td>41</td>\n",
       "      <td>1.0</td>\n",
       "      <td>83807.86</td>\n",
       "      <td>1</td>\n",
       "      <td>0</td>\n",
       "      <td>1</td>\n",
       "      <td>112542.58</td>\n",
       "      <td>0</td>\n",
       "    </tr>\n",
       "    <tr>\n",
       "      <th>2</th>\n",
       "      <td>3</td>\n",
       "      <td>15619304</td>\n",
       "      <td>Onio</td>\n",
       "      <td>502</td>\n",
       "      <td>France</td>\n",
       "      <td>Female</td>\n",
       "      <td>42</td>\n",
       "      <td>8.0</td>\n",
       "      <td>159660.80</td>\n",
       "      <td>3</td>\n",
       "      <td>1</td>\n",
       "      <td>0</td>\n",
       "      <td>113931.57</td>\n",
       "      <td>1</td>\n",
       "    </tr>\n",
       "    <tr>\n",
       "      <th>3</th>\n",
       "      <td>4</td>\n",
       "      <td>15701354</td>\n",
       "      <td>Boni</td>\n",
       "      <td>699</td>\n",
       "      <td>France</td>\n",
       "      <td>Female</td>\n",
       "      <td>39</td>\n",
       "      <td>1.0</td>\n",
       "      <td>0.00</td>\n",
       "      <td>2</td>\n",
       "      <td>0</td>\n",
       "      <td>0</td>\n",
       "      <td>93826.63</td>\n",
       "      <td>0</td>\n",
       "    </tr>\n",
       "    <tr>\n",
       "      <th>4</th>\n",
       "      <td>5</td>\n",
       "      <td>15737888</td>\n",
       "      <td>Mitchell</td>\n",
       "      <td>850</td>\n",
       "      <td>Spain</td>\n",
       "      <td>Female</td>\n",
       "      <td>43</td>\n",
       "      <td>2.0</td>\n",
       "      <td>125510.82</td>\n",
       "      <td>1</td>\n",
       "      <td>1</td>\n",
       "      <td>1</td>\n",
       "      <td>79084.10</td>\n",
       "      <td>0</td>\n",
       "    </tr>\n",
       "  </tbody>\n",
       "</table>\n",
       "</div>"
      ],
      "text/plain": [
       "   RowNumber  CustomerId   Surname  CreditScore Geography  Gender  Age  \\\n",
       "0          1    15634602  Hargrave          619    France  Female   42   \n",
       "1          2    15647311      Hill          608     Spain  Female   41   \n",
       "2          3    15619304      Onio          502    France  Female   42   \n",
       "3          4    15701354      Boni          699    France  Female   39   \n",
       "4          5    15737888  Mitchell          850     Spain  Female   43   \n",
       "\n",
       "   Tenure    Balance  NumOfProducts  HasCrCard  IsActiveMember  \\\n",
       "0     2.0       0.00              1          1               1   \n",
       "1     1.0   83807.86              1          0               1   \n",
       "2     8.0  159660.80              3          1               0   \n",
       "3     1.0       0.00              2          0               0   \n",
       "4     2.0  125510.82              1          1               1   \n",
       "\n",
       "   EstimatedSalary  Exited  \n",
       "0        101348.88       1  \n",
       "1        112542.58       0  \n",
       "2        113931.57       1  \n",
       "3         93826.63       0  \n",
       "4         79084.10       0  "
      ]
     },
     "execution_count": 80,
     "metadata": {},
     "output_type": "execute_result"
    }
   ],
   "source": [
    "# Importing the data\n",
    "df = pd.read_csv('/datasets/Churn.csv')\n",
    "\n",
    "# Previewing the first rows of data\n",
    "df.head()"
   ]
  },
  {
   "cell_type": "markdown",
   "metadata": {},
   "source": [
    "The data is displayed in the form of a table with several columns representing different customer characteristics. Each row represents a specific customer."
   ]
  },
  {
   "cell_type": "markdown",
   "metadata": {},
   "source": [
    "### Initial Data Exploration"
   ]
  },
  {
   "cell_type": "markdown",
   "metadata": {},
   "source": [
    "#### Check basic data information:"
   ]
  },
  {
   "cell_type": "markdown",
   "metadata": {},
   "source": [
    "Let's use the info() method to get information about the columns, data types and missing values."
   ]
  },
  {
   "cell_type": "code",
   "execution_count": 81,
   "metadata": {},
   "outputs": [
    {
     "name": "stdout",
     "output_type": "stream",
     "text": [
      "<class 'pandas.core.frame.DataFrame'>\n",
      "RangeIndex: 10000 entries, 0 to 9999\n",
      "Data columns (total 14 columns):\n",
      " #   Column           Non-Null Count  Dtype  \n",
      "---  ------           --------------  -----  \n",
      " 0   RowNumber        10000 non-null  int64  \n",
      " 1   CustomerId       10000 non-null  int64  \n",
      " 2   Surname          10000 non-null  object \n",
      " 3   CreditScore      10000 non-null  int64  \n",
      " 4   Geography        10000 non-null  object \n",
      " 5   Gender           10000 non-null  object \n",
      " 6   Age              10000 non-null  int64  \n",
      " 7   Tenure           9091 non-null   float64\n",
      " 8   Balance          10000 non-null  float64\n",
      " 9   NumOfProducts    10000 non-null  int64  \n",
      " 10  HasCrCard        10000 non-null  int64  \n",
      " 11  IsActiveMember   10000 non-null  int64  \n",
      " 12  EstimatedSalary  10000 non-null  float64\n",
      " 13  Exited           10000 non-null  int64  \n",
      "dtypes: float64(3), int64(8), object(3)\n",
      "memory usage: 1.1+ MB\n"
     ]
    }
   ],
   "source": [
    "# Getting basic information from the data\n",
    "df.info()"
   ]
  },
  {
   "cell_type": "markdown",
   "metadata": {},
   "source": [
    "* We have a total of 10,000 records with 14 columns.\n",
    "\n",
    "\n",
    "* The \"Tenure\" column has missing values, with only 9,091 records filled in."
   ]
  },
  {
   "cell_type": "markdown",
   "metadata": {},
   "source": [
    "#### Explore descriptive statistics:"
   ]
  },
  {
   "cell_type": "markdown",
   "metadata": {},
   "source": [
    "Let's use the describe() method to get summary statistics from numeric columns like mean, standard deviation, quartiles, etc."
   ]
  },
  {
   "cell_type": "code",
   "execution_count": 82,
   "metadata": {},
   "outputs": [
    {
     "data": {
      "text/html": [
       "<div>\n",
       "<style scoped>\n",
       "    .dataframe tbody tr th:only-of-type {\n",
       "        vertical-align: middle;\n",
       "    }\n",
       "\n",
       "    .dataframe tbody tr th {\n",
       "        vertical-align: top;\n",
       "    }\n",
       "\n",
       "    .dataframe thead th {\n",
       "        text-align: right;\n",
       "    }\n",
       "</style>\n",
       "<table border=\"1\" class=\"dataframe\">\n",
       "  <thead>\n",
       "    <tr style=\"text-align: right;\">\n",
       "      <th></th>\n",
       "      <th>RowNumber</th>\n",
       "      <th>CustomerId</th>\n",
       "      <th>CreditScore</th>\n",
       "      <th>Age</th>\n",
       "      <th>Tenure</th>\n",
       "      <th>Balance</th>\n",
       "      <th>NumOfProducts</th>\n",
       "      <th>HasCrCard</th>\n",
       "      <th>IsActiveMember</th>\n",
       "      <th>EstimatedSalary</th>\n",
       "      <th>Exited</th>\n",
       "    </tr>\n",
       "  </thead>\n",
       "  <tbody>\n",
       "    <tr>\n",
       "      <th>count</th>\n",
       "      <td>10000.00000</td>\n",
       "      <td>1.000000e+04</td>\n",
       "      <td>10000.000000</td>\n",
       "      <td>10000.000000</td>\n",
       "      <td>9091.000000</td>\n",
       "      <td>10000.000000</td>\n",
       "      <td>10000.000000</td>\n",
       "      <td>10000.00000</td>\n",
       "      <td>10000.000000</td>\n",
       "      <td>10000.000000</td>\n",
       "      <td>10000.000000</td>\n",
       "    </tr>\n",
       "    <tr>\n",
       "      <th>mean</th>\n",
       "      <td>5000.50000</td>\n",
       "      <td>1.569094e+07</td>\n",
       "      <td>650.528800</td>\n",
       "      <td>38.921800</td>\n",
       "      <td>4.997690</td>\n",
       "      <td>76485.889288</td>\n",
       "      <td>1.530200</td>\n",
       "      <td>0.70550</td>\n",
       "      <td>0.515100</td>\n",
       "      <td>100090.239881</td>\n",
       "      <td>0.203700</td>\n",
       "    </tr>\n",
       "    <tr>\n",
       "      <th>std</th>\n",
       "      <td>2886.89568</td>\n",
       "      <td>7.193619e+04</td>\n",
       "      <td>96.653299</td>\n",
       "      <td>10.487806</td>\n",
       "      <td>2.894723</td>\n",
       "      <td>62397.405202</td>\n",
       "      <td>0.581654</td>\n",
       "      <td>0.45584</td>\n",
       "      <td>0.499797</td>\n",
       "      <td>57510.492818</td>\n",
       "      <td>0.402769</td>\n",
       "    </tr>\n",
       "    <tr>\n",
       "      <th>min</th>\n",
       "      <td>1.00000</td>\n",
       "      <td>1.556570e+07</td>\n",
       "      <td>350.000000</td>\n",
       "      <td>18.000000</td>\n",
       "      <td>0.000000</td>\n",
       "      <td>0.000000</td>\n",
       "      <td>1.000000</td>\n",
       "      <td>0.00000</td>\n",
       "      <td>0.000000</td>\n",
       "      <td>11.580000</td>\n",
       "      <td>0.000000</td>\n",
       "    </tr>\n",
       "    <tr>\n",
       "      <th>25%</th>\n",
       "      <td>2500.75000</td>\n",
       "      <td>1.562853e+07</td>\n",
       "      <td>584.000000</td>\n",
       "      <td>32.000000</td>\n",
       "      <td>2.000000</td>\n",
       "      <td>0.000000</td>\n",
       "      <td>1.000000</td>\n",
       "      <td>0.00000</td>\n",
       "      <td>0.000000</td>\n",
       "      <td>51002.110000</td>\n",
       "      <td>0.000000</td>\n",
       "    </tr>\n",
       "    <tr>\n",
       "      <th>50%</th>\n",
       "      <td>5000.50000</td>\n",
       "      <td>1.569074e+07</td>\n",
       "      <td>652.000000</td>\n",
       "      <td>37.000000</td>\n",
       "      <td>5.000000</td>\n",
       "      <td>97198.540000</td>\n",
       "      <td>1.000000</td>\n",
       "      <td>1.00000</td>\n",
       "      <td>1.000000</td>\n",
       "      <td>100193.915000</td>\n",
       "      <td>0.000000</td>\n",
       "    </tr>\n",
       "    <tr>\n",
       "      <th>75%</th>\n",
       "      <td>7500.25000</td>\n",
       "      <td>1.575323e+07</td>\n",
       "      <td>718.000000</td>\n",
       "      <td>44.000000</td>\n",
       "      <td>7.000000</td>\n",
       "      <td>127644.240000</td>\n",
       "      <td>2.000000</td>\n",
       "      <td>1.00000</td>\n",
       "      <td>1.000000</td>\n",
       "      <td>149388.247500</td>\n",
       "      <td>0.000000</td>\n",
       "    </tr>\n",
       "    <tr>\n",
       "      <th>max</th>\n",
       "      <td>10000.00000</td>\n",
       "      <td>1.581569e+07</td>\n",
       "      <td>850.000000</td>\n",
       "      <td>92.000000</td>\n",
       "      <td>10.000000</td>\n",
       "      <td>250898.090000</td>\n",
       "      <td>4.000000</td>\n",
       "      <td>1.00000</td>\n",
       "      <td>1.000000</td>\n",
       "      <td>199992.480000</td>\n",
       "      <td>1.000000</td>\n",
       "    </tr>\n",
       "  </tbody>\n",
       "</table>\n",
       "</div>"
      ],
      "text/plain": [
       "         RowNumber    CustomerId   CreditScore           Age       Tenure  \\\n",
       "count  10000.00000  1.000000e+04  10000.000000  10000.000000  9091.000000   \n",
       "mean    5000.50000  1.569094e+07    650.528800     38.921800     4.997690   \n",
       "std     2886.89568  7.193619e+04     96.653299     10.487806     2.894723   \n",
       "min        1.00000  1.556570e+07    350.000000     18.000000     0.000000   \n",
       "25%     2500.75000  1.562853e+07    584.000000     32.000000     2.000000   \n",
       "50%     5000.50000  1.569074e+07    652.000000     37.000000     5.000000   \n",
       "75%     7500.25000  1.575323e+07    718.000000     44.000000     7.000000   \n",
       "max    10000.00000  1.581569e+07    850.000000     92.000000    10.000000   \n",
       "\n",
       "             Balance  NumOfProducts    HasCrCard  IsActiveMember  \\\n",
       "count   10000.000000   10000.000000  10000.00000    10000.000000   \n",
       "mean    76485.889288       1.530200      0.70550        0.515100   \n",
       "std     62397.405202       0.581654      0.45584        0.499797   \n",
       "min         0.000000       1.000000      0.00000        0.000000   \n",
       "25%         0.000000       1.000000      0.00000        0.000000   \n",
       "50%     97198.540000       1.000000      1.00000        1.000000   \n",
       "75%    127644.240000       2.000000      1.00000        1.000000   \n",
       "max    250898.090000       4.000000      1.00000        1.000000   \n",
       "\n",
       "       EstimatedSalary        Exited  \n",
       "count     10000.000000  10000.000000  \n",
       "mean     100090.239881      0.203700  \n",
       "std       57510.492818      0.402769  \n",
       "min          11.580000      0.000000  \n",
       "25%       51002.110000      0.000000  \n",
       "50%      100193.915000      0.000000  \n",
       "75%      149388.247500      0.000000  \n",
       "max      199992.480000      1.000000  "
      ]
     },
     "execution_count": 82,
     "metadata": {},
     "output_type": "execute_result"
    }
   ],
   "source": [
    "# Exploring descriptive statistics\n",
    "df.describe()"
   ]
  },
  {
   "cell_type": "markdown",
   "metadata": {},
   "source": [
    "* The average \"CreditScore\" is approximately 650, with a standard deviation of 96.65.\n",
    "\n",
    "\n",
    "* The average age of clients is around 38 years old, with a standard deviation of 10.49.\n",
    "\n",
    "\n",
    "* Most customers have a \"Tenure\" (length of relationship with the bank) between 2 and 7.\n",
    "\n",
    "\n",
    "* The average account balance is approximately 76,485.\n",
    "\n",
    "\n",
    "* The average of banking products is 1.53."
   ]
  },
  {
   "cell_type": "markdown",
   "metadata": {},
   "source": [
    "#### Removal of non-aggregating columns"
   ]
  },
  {
   "cell_type": "markdown",
   "metadata": {},
   "source": [
    "We could see that, for our focus on creating a prediction model, despite being numerical, the columns `RowNumber`, `CustomerId` and `Surname` do not bring any benefit to modeling and/or forecasting and can even cause confusion, since they can be confused with ordinal variables.\n",
    "\n",
    "Therefore, we will remove these and check the result:"
   ]
  },
  {
   "cell_type": "code",
   "execution_count": 83,
   "metadata": {
    "scrolled": true
   },
   "outputs": [
    {
     "data": {
      "text/html": [
       "<div>\n",
       "<style scoped>\n",
       "    .dataframe tbody tr th:only-of-type {\n",
       "        vertical-align: middle;\n",
       "    }\n",
       "\n",
       "    .dataframe tbody tr th {\n",
       "        vertical-align: top;\n",
       "    }\n",
       "\n",
       "    .dataframe thead th {\n",
       "        text-align: right;\n",
       "    }\n",
       "</style>\n",
       "<table border=\"1\" class=\"dataframe\">\n",
       "  <thead>\n",
       "    <tr style=\"text-align: right;\">\n",
       "      <th></th>\n",
       "      <th>CreditScore</th>\n",
       "      <th>Geography</th>\n",
       "      <th>Gender</th>\n",
       "      <th>Age</th>\n",
       "      <th>Tenure</th>\n",
       "      <th>Balance</th>\n",
       "      <th>NumOfProducts</th>\n",
       "      <th>HasCrCard</th>\n",
       "      <th>IsActiveMember</th>\n",
       "      <th>EstimatedSalary</th>\n",
       "      <th>Exited</th>\n",
       "    </tr>\n",
       "  </thead>\n",
       "  <tbody>\n",
       "    <tr>\n",
       "      <th>0</th>\n",
       "      <td>619</td>\n",
       "      <td>France</td>\n",
       "      <td>Female</td>\n",
       "      <td>42</td>\n",
       "      <td>2.0</td>\n",
       "      <td>0.00</td>\n",
       "      <td>1</td>\n",
       "      <td>1</td>\n",
       "      <td>1</td>\n",
       "      <td>101348.88</td>\n",
       "      <td>1</td>\n",
       "    </tr>\n",
       "    <tr>\n",
       "      <th>1</th>\n",
       "      <td>608</td>\n",
       "      <td>Spain</td>\n",
       "      <td>Female</td>\n",
       "      <td>41</td>\n",
       "      <td>1.0</td>\n",
       "      <td>83807.86</td>\n",
       "      <td>1</td>\n",
       "      <td>0</td>\n",
       "      <td>1</td>\n",
       "      <td>112542.58</td>\n",
       "      <td>0</td>\n",
       "    </tr>\n",
       "    <tr>\n",
       "      <th>2</th>\n",
       "      <td>502</td>\n",
       "      <td>France</td>\n",
       "      <td>Female</td>\n",
       "      <td>42</td>\n",
       "      <td>8.0</td>\n",
       "      <td>159660.80</td>\n",
       "      <td>3</td>\n",
       "      <td>1</td>\n",
       "      <td>0</td>\n",
       "      <td>113931.57</td>\n",
       "      <td>1</td>\n",
       "    </tr>\n",
       "    <tr>\n",
       "      <th>3</th>\n",
       "      <td>699</td>\n",
       "      <td>France</td>\n",
       "      <td>Female</td>\n",
       "      <td>39</td>\n",
       "      <td>1.0</td>\n",
       "      <td>0.00</td>\n",
       "      <td>2</td>\n",
       "      <td>0</td>\n",
       "      <td>0</td>\n",
       "      <td>93826.63</td>\n",
       "      <td>0</td>\n",
       "    </tr>\n",
       "    <tr>\n",
       "      <th>4</th>\n",
       "      <td>850</td>\n",
       "      <td>Spain</td>\n",
       "      <td>Female</td>\n",
       "      <td>43</td>\n",
       "      <td>2.0</td>\n",
       "      <td>125510.82</td>\n",
       "      <td>1</td>\n",
       "      <td>1</td>\n",
       "      <td>1</td>\n",
       "      <td>79084.10</td>\n",
       "      <td>0</td>\n",
       "    </tr>\n",
       "  </tbody>\n",
       "</table>\n",
       "</div>"
      ],
      "text/plain": [
       "   CreditScore Geography  Gender  Age  Tenure    Balance  NumOfProducts  \\\n",
       "0          619    France  Female   42     2.0       0.00              1   \n",
       "1          608     Spain  Female   41     1.0   83807.86              1   \n",
       "2          502    France  Female   42     8.0  159660.80              3   \n",
       "3          699    France  Female   39     1.0       0.00              2   \n",
       "4          850     Spain  Female   43     2.0  125510.82              1   \n",
       "\n",
       "   HasCrCard  IsActiveMember  EstimatedSalary  Exited  \n",
       "0          1               1        101348.88       1  \n",
       "1          0               1        112542.58       0  \n",
       "2          1               0        113931.57       1  \n",
       "3          0               0         93826.63       0  \n",
       "4          1               1         79084.10       0  "
      ]
     },
     "execution_count": 83,
     "metadata": {},
     "output_type": "execute_result"
    }
   ],
   "source": [
    "# Removing unnecessary columns to define the client's identity\n",
    "df.drop(columns=['RowNumber', 'CustomerId', 'Surname'], inplace=True)\n",
    "\n",
    "df.head()"
   ]
  },
  {
   "cell_type": "markdown",
   "metadata": {},
   "source": [
    "#### Analyze the distribution of variables:"
   ]
  },
  {
   "cell_type": "markdown",
   "metadata": {},
   "source": [
    "We will plot histograms to visualize the distribution of numerical variables and bar graphs for categorical variables."
   ]
  },
  {
   "cell_type": "code",
   "execution_count": 84,
   "metadata": {},
   "outputs": [
    {
     "data": {
      "image/png": "[encoded data removed]",
      "text/plain": [
       "<Figure size 1080x720 with 9 Axes>"
      ]
     },
     "metadata": {
      "needs_background": "light"
     },
     "output_type": "display_data"
    }
   ],
   "source": [
    "# Analyzing the distribution of numerical variables\n",
    "df.hist(figsize=(15, 10));"
   ]
  },
  {
   "cell_type": "code",
   "execution_count": 85,
   "metadata": {},
   "outputs": [
    {
     "data": {
      "text/plain": [
       "<AxesSubplot:>"
      ]
     },
     "execution_count": 85,
     "metadata": {},
     "output_type": "execute_result"
    },
    {
     "data": {
      "image/png": "[encoded data removed]",
      "text/plain": [
       "<Figure size 432x288 with 1 Axes>"
      ]
     },
     "metadata": {
      "needs_background": "light"
     },
     "output_type": "display_data"
    }
   ],
   "source": [
    "# Analyzing the distribution of categorical variables\n",
    "df['Geography'].value_counts().plot(kind='bar')"
   ]
  },
  {
   "cell_type": "markdown",
   "metadata": {},
   "source": [
    "* Most customers are from France, followed by Germany and Spain.\n",
    "\n",
    "\n",
    "* The distribution of \"CreditScore\" appears to be close to a normal distribution.\n",
    "\n",
    "\n",
    "* Most customers have only one banking product.\n",
    "\n",
    "\n",
    "* Within this period, approximately 80% of customers remain.\n",
    "\n",
    "\n",
    "* Most customers have a credit card."
   ]
  },
  {
   "cell_type": "markdown",
   "metadata": {},
   "source": [
    "#### Check the correlation between the variables:"
   ]
  },
  {
   "cell_type": "markdown",
   "metadata": {},
   "source": [
    "Let's calculate the correlation matrix and plot a heat map to identify relationships between numerical variables."
   ]
  },
  {
   "cell_type": "code",
   "execution_count": 86,
   "metadata": {},
   "outputs": [
    {
     "data": {
      "text/html": [
       "<div>\n",
       "<style scoped>\n",
       "    .dataframe tbody tr th:only-of-type {\n",
       "        vertical-align: middle;\n",
       "    }\n",
       "\n",
       "    .dataframe tbody tr th {\n",
       "        vertical-align: top;\n",
       "    }\n",
       "\n",
       "    .dataframe thead th {\n",
       "        text-align: right;\n",
       "    }\n",
       "</style>\n",
       "<table border=\"1\" class=\"dataframe\">\n",
       "  <thead>\n",
       "    <tr style=\"text-align: right;\">\n",
       "      <th></th>\n",
       "      <th>CreditScore</th>\n",
       "      <th>Age</th>\n",
       "      <th>Tenure</th>\n",
       "      <th>Balance</th>\n",
       "      <th>NumOfProducts</th>\n",
       "      <th>HasCrCard</th>\n",
       "      <th>IsActiveMember</th>\n",
       "      <th>EstimatedSalary</th>\n",
       "      <th>Exited</th>\n",
       "    </tr>\n",
       "  </thead>\n",
       "  <tbody>\n",
       "    <tr>\n",
       "      <th>CreditScore</th>\n",
       "      <td>1.000000</td>\n",
       "      <td>-0.003965</td>\n",
       "      <td>-0.000062</td>\n",
       "      <td>0.006268</td>\n",
       "      <td>0.012238</td>\n",
       "      <td>-0.005458</td>\n",
       "      <td>0.025651</td>\n",
       "      <td>-0.001384</td>\n",
       "      <td>-0.027094</td>\n",
       "    </tr>\n",
       "    <tr>\n",
       "      <th>Age</th>\n",
       "      <td>-0.003965</td>\n",
       "      <td>1.000000</td>\n",
       "      <td>-0.013134</td>\n",
       "      <td>0.028308</td>\n",
       "      <td>-0.030680</td>\n",
       "      <td>-0.011721</td>\n",
       "      <td>0.085472</td>\n",
       "      <td>-0.007201</td>\n",
       "      <td>0.285323</td>\n",
       "    </tr>\n",
       "    <tr>\n",
       "      <th>Tenure</th>\n",
       "      <td>-0.000062</td>\n",
       "      <td>-0.013134</td>\n",
       "      <td>1.000000</td>\n",
       "      <td>-0.007911</td>\n",
       "      <td>0.011979</td>\n",
       "      <td>0.027232</td>\n",
       "      <td>-0.032178</td>\n",
       "      <td>0.010520</td>\n",
       "      <td>-0.016761</td>\n",
       "    </tr>\n",
       "    <tr>\n",
       "      <th>Balance</th>\n",
       "      <td>0.006268</td>\n",
       "      <td>0.028308</td>\n",
       "      <td>-0.007911</td>\n",
       "      <td>1.000000</td>\n",
       "      <td>-0.304180</td>\n",
       "      <td>-0.014858</td>\n",
       "      <td>-0.010084</td>\n",
       "      <td>0.012797</td>\n",
       "      <td>0.118533</td>\n",
       "    </tr>\n",
       "    <tr>\n",
       "      <th>NumOfProducts</th>\n",
       "      <td>0.012238</td>\n",
       "      <td>-0.030680</td>\n",
       "      <td>0.011979</td>\n",
       "      <td>-0.304180</td>\n",
       "      <td>1.000000</td>\n",
       "      <td>0.003183</td>\n",
       "      <td>0.009612</td>\n",
       "      <td>0.014204</td>\n",
       "      <td>-0.047820</td>\n",
       "    </tr>\n",
       "    <tr>\n",
       "      <th>HasCrCard</th>\n",
       "      <td>-0.005458</td>\n",
       "      <td>-0.011721</td>\n",
       "      <td>0.027232</td>\n",
       "      <td>-0.014858</td>\n",
       "      <td>0.003183</td>\n",
       "      <td>1.000000</td>\n",
       "      <td>-0.011866</td>\n",
       "      <td>-0.009933</td>\n",
       "      <td>-0.007138</td>\n",
       "    </tr>\n",
       "    <tr>\n",
       "      <th>IsActiveMember</th>\n",
       "      <td>0.025651</td>\n",
       "      <td>0.085472</td>\n",
       "      <td>-0.032178</td>\n",
       "      <td>-0.010084</td>\n",
       "      <td>0.009612</td>\n",
       "      <td>-0.011866</td>\n",
       "      <td>1.000000</td>\n",
       "      <td>-0.011421</td>\n",
       "      <td>-0.156128</td>\n",
       "    </tr>\n",
       "    <tr>\n",
       "      <th>EstimatedSalary</th>\n",
       "      <td>-0.001384</td>\n",
       "      <td>-0.007201</td>\n",
       "      <td>0.010520</td>\n",
       "      <td>0.012797</td>\n",
       "      <td>0.014204</td>\n",
       "      <td>-0.009933</td>\n",
       "      <td>-0.011421</td>\n",
       "      <td>1.000000</td>\n",
       "      <td>0.012097</td>\n",
       "    </tr>\n",
       "    <tr>\n",
       "      <th>Exited</th>\n",
       "      <td>-0.027094</td>\n",
       "      <td>0.285323</td>\n",
       "      <td>-0.016761</td>\n",
       "      <td>0.118533</td>\n",
       "      <td>-0.047820</td>\n",
       "      <td>-0.007138</td>\n",
       "      <td>-0.156128</td>\n",
       "      <td>0.012097</td>\n",
       "      <td>1.000000</td>\n",
       "    </tr>\n",
       "  </tbody>\n",
       "</table>\n",
       "</div>"
      ],
      "text/plain": [
       "                 CreditScore       Age    Tenure   Balance  NumOfProducts  \\\n",
       "CreditScore         1.000000 -0.003965 -0.000062  0.006268       0.012238   \n",
       "Age                -0.003965  1.000000 -0.013134  0.028308      -0.030680   \n",
       "Tenure             -0.000062 -0.013134  1.000000 -0.007911       0.011979   \n",
       "Balance             0.006268  0.028308 -0.007911  1.000000      -0.304180   \n",
       "NumOfProducts       0.012238 -0.030680  0.011979 -0.304180       1.000000   \n",
       "HasCrCard          -0.005458 -0.011721  0.027232 -0.014858       0.003183   \n",
       "IsActiveMember      0.025651  0.085472 -0.032178 -0.010084       0.009612   \n",
       "EstimatedSalary    -0.001384 -0.007201  0.010520  0.012797       0.014204   \n",
       "Exited             -0.027094  0.285323 -0.016761  0.118533      -0.047820   \n",
       "\n",
       "                 HasCrCard  IsActiveMember  EstimatedSalary    Exited  \n",
       "CreditScore      -0.005458        0.025651        -0.001384 -0.027094  \n",
       "Age              -0.011721        0.085472        -0.007201  0.285323  \n",
       "Tenure            0.027232       -0.032178         0.010520 -0.016761  \n",
       "Balance          -0.014858       -0.010084         0.012797  0.118533  \n",
       "NumOfProducts     0.003183        0.009612         0.014204 -0.047820  \n",
       "HasCrCard         1.000000       -0.011866        -0.009933 -0.007138  \n",
       "IsActiveMember   -0.011866        1.000000        -0.011421 -0.156128  \n",
       "EstimatedSalary  -0.009933       -0.011421         1.000000  0.012097  \n",
       "Exited           -0.007138       -0.156128         0.012097  1.000000  "
      ]
     },
     "execution_count": 86,
     "metadata": {},
     "output_type": "execute_result"
    }
   ],
   "source": [
    "# Checking the correlation between numerical variables\n",
    "df.corr()"
   ]
  },
  {
   "cell_type": "code",
   "execution_count": 87,
   "metadata": {},
   "outputs": [
    {
     "data": {
      "image/png": "[encoded data removed]",
      "text/plain": [
       "<Figure size 1152x576 with 2 Axes>"
      ]
     },
     "metadata": {
      "needs_background": "light"
     },
     "output_type": "display_data"
    }
   ],
   "source": [
    "# Making correlation checking easier using a heatmap from the 'seaborn' library\n",
    "correlation_matrix = df.corr()\n",
    "plt.figure(figsize=(16, 8))\n",
    "sns.heatmap(correlation_matrix, annot=True, cmap='coolwarm')\n",
    "plt.title('Correlation between variables')\n",
    "plt.show()"
   ]
  },
  {
   "cell_type": "markdown",
   "metadata": {},
   "source": [
    "No correlation exceeded the 0.3 index, that is, for the time being we can observe little correlation between the variables. But, among the highest, we can highlight:\n",
    "\n",
    "\n",
    "* The strongest correlation is between the variable \"Exited\" (whether the customer left or not) and the customer's age, indicating a possible relationship between age and the probability of cancellation.\n",
    "\n",
    "\n",
    "* Other significant correlations include \"CreditScore\" and \"Balance\" with \"Exited\"."
   ]
  },
  {
   "cell_type": "markdown",
   "metadata": {},
   "source": [
    "### Missing Data Handling"
   ]
  },
  {
   "cell_type": "markdown",
   "metadata": {},
   "source": [
    "#### Possible reasons:\n",
    "\n",
    "As we explored the data earlier, we found that \"Tenure\" is the only variable that contains NaN values.\n",
    "\n",
    "The variable \"Tenure\" represents the length of time the customer has been in the bank, in years.\n",
    "\n",
    "It is possible that these missing values occurred for several reasons:\n",
    "\n",
    "* **Registration Error**: The \"Tenure\" values may not have been correctly registered during data collection, resulting in missing values.\n",
    "\n",
    "\n",
    "* **Missing information**: Some customers may not have provided information about the length of stay in the bank, leaving these fields empty.\n",
    "\n",
    "\n",
    "* **System Did Not Capture Dwell Time**: There may be cases where the system did not correctly capture the customer's Dwell Time, resulting in missing values."
   ]
  },
  {
   "cell_type": "markdown",
   "metadata": {},
   "source": [
    "#### Possible actions:\n",
    "\n",
    "To deal with this missing data, some possibilities can be considered:\n",
    "\n",
    "* **Fill in by average value**: We can fill in the missing values with the average of the existing \"Tenure\" values. This would help preserve the central tendency of the data.\n",
    "\n",
    "\n",
    "* **Fill in by median value**: Another approach is to fill in the missing values with the median value of \"Tenure\". This option can be more robust against outliers.\n",
    "\n",
    "\n",
    "* **Fill with zero value**: If there is no clear justification for the missing values in \"Tenure\", we can assign the value zero to represent the absence of dwell time.\n",
    "\n",
    "\n",
    "* **Filling based on other variables**: If there is a correlation between \"Tenure\" and other variables, we can use these relationships to fill in the missing values more accurately."
   ]
  },
  {
   "cell_type": "code",
   "execution_count": 88,
   "metadata": {},
   "outputs": [
    {
     "data": {
      "image/png": "[encoded data removed]",
      "text/plain": [
       "<Figure size 576x432 with 1 Axes>"
      ]
     },
     "metadata": {
      "needs_background": "light"
     },
     "output_type": "display_data"
    }
   ],
   "source": [
    "# Creating the Tenure boxplot without the missing values, to observe the distribution of customers' time in the bank\n",
    "plt.figure(figsize=(8, 6))\n",
    "plt.boxplot(df['Tenure'].dropna()) # Removing missing values before plotting\n",
    "plt.title('Tenure Distribution')\n",
    "plt.ylabel('Tenure')\n",
    "plt.show()"
   ]
  },
  {
   "cell_type": "code",
   "execution_count": 89,
   "metadata": {},
   "outputs": [
    {
     "data": {
      "text/plain": [
       "0.0     382\n",
       "1.0     952\n",
       "2.0     950\n",
       "3.0     928\n",
       "4.0     885\n",
       "5.0     927\n",
       "6.0     881\n",
       "7.0     925\n",
       "8.0     933\n",
       "9.0     882\n",
       "10.0    446\n",
       "Name: Tenure, dtype: int64"
      ]
     },
     "execution_count": 89,
     "metadata": {},
     "output_type": "execute_result"
    }
   ],
   "source": [
    "# Counting the number of customers\n",
    "\n",
    "df['Tenure'].value_counts().sort_index(ascending=True)"
   ]
  },
  {
   "cell_type": "code",
   "execution_count": 90,
   "metadata": {},
   "outputs": [
    {
     "data": {
      "image/png": "[encoded data removed]",
      "text/plain": [
       "<Figure size 432x288 with 1 Axes>"
      ]
     },
     "metadata": {
      "needs_background": "light"
     },
     "output_type": "display_data"
    }
   ],
   "source": [
    "# Counting the amount of customers in each \"Tenure\" value\n",
    "count_data = df['Tenure'].value_counts().sort_index(ascending=True)\n",
    "\n",
    "# Creating the line graph\n",
    "plt.plot(count_data.index, count_data.values, marker='o')\n",
    "plt.xlabel('Tenure')\n",
    "plt.ylabel('Number of customers')\n",
    "plt.title('Customer Count by Tenure')\n",
    "plt.grid(True)\n",
    "plt.show()"
   ]
  },
  {
   "cell_type": "code",
   "execution_count": 91,
   "metadata": {},
   "outputs": [
    {
     "data": {
      "text/plain": [
       "909"
      ]
     },
     "execution_count": 91,
     "metadata": {},
     "output_type": "execute_result"
    }
   ],
   "source": [
    "df['Tenure'].isna().sum()\n"
   ]
  },
  {
   "cell_type": "markdown",
   "metadata": {},
   "source": [
    "#### Intermediate Conclusions\n",
    "\n",
    "* Apparently, we don't have *outliers* and there is a relatively homogeneous distribution between clients and their years in the bank.\n",
    "\n",
    "\n",
    "* The average (4.99769) and the median (5) are very close and, having already around 900 customers after approximately 5 years with the bank, if we choose to replace the 909 absent with both, the distribution will be totally irregular, causing customers to with 5 years in banking were practically twice as many as customers with any other years in banking.\n",
    "\n",
    "\n",
    "* We have the option of replacing based on the variable that makes the greatest correlation, which in this case is `IsActiveMember`. However, in addition to this correlation not being considered high (0.032178), it has a binary classification (Yes=1 or No=0). That is, we would normally group by a characteristic of a group and use its average for substitution. It turns out that the average for active customers, which are the majority, will result in virtually the same result as replacing it directly with the general average (4.99769), which again will dramatically raise the middle of the graph (5 years in the bank).\n",
    "\n",
    "\n",
    "* We only have the option to fill in the value 0 (ZERO). By doing this, we are assigning absent customers a \"Tenure\" value of 0, indicating that they have not completed one year in the bank. Although we are considering that customers have left the bank, we always have new ones arriving and this approach helps us to avoid significant distortions in the distribution of years in the bank, as we will not have a drastic increase in the number of customers with 5 years in the bank. In addition, as there are already 382 customers with \"0 years\" in the bank, replacing them with zeros also makes sense."
   ]
  },
  {
   "cell_type": "markdown",
   "metadata": {},
   "source": [
    "#### Completion of NaN values"
   ]
  },
  {
   "cell_type": "code",
   "execution_count": 92,
   "metadata": {},
   "outputs": [
    {
     "data": {
      "text/plain": [
       "0.0     1291\n",
       "1.0      952\n",
       "2.0      950\n",
       "3.0      928\n",
       "4.0      885\n",
       "5.0      927\n",
       "6.0      881\n",
       "7.0      925\n",
       "8.0      933\n",
       "9.0      882\n",
       "10.0     446\n",
       "Name: Tenure, dtype: int64"
      ]
     },
     "execution_count": 92,
     "metadata": {},
     "output_type": "execute_result"
    }
   ],
   "source": [
    "df['Tenure'].fillna(0, inplace=True)\n",
    "\n",
    "\n",
    "# Counting the number of customers\n",
    "\n",
    "df['Tenure'].value_counts().sort_index(ascending=True)"
   ]
  },
  {
   "cell_type": "code",
   "execution_count": 93,
   "metadata": {},
   "outputs": [
    {
     "data": {
      "text/plain": [
       "CreditScore        0\n",
       "Geography          0\n",
       "Gender             0\n",
       "Age                0\n",
       "Tenure             0\n",
       "Balance            0\n",
       "NumOfProducts      0\n",
       "HasCrCard          0\n",
       "IsActiveMember     0\n",
       "EstimatedSalary    0\n",
       "Exited             0\n",
       "dtype: int64"
      ]
     },
     "execution_count": 93,
     "metadata": {},
     "output_type": "execute_result"
    }
   ],
   "source": [
    "# Checking if the columns really were without null values\n",
    "\n",
    "df.isna().sum()"
   ]
  },
  {
   "cell_type": "code",
   "execution_count": 94,
   "metadata": {},
   "outputs": [
    {
     "data": {
      "image/png": "[encoded data removed]",
      "text/plain": [
       "<Figure size 432x288 with 1 Axes>"
      ]
     },
     "metadata": {
      "needs_background": "light"
     },
     "output_type": "display_data"
    }
   ],
   "source": [
    "# Counting the amount of customers in each \"Tenure\" value\n",
    "count_data = df['Tenure'].value_counts().sort_index(ascending=True)\n",
    "\n",
    "# Creating the line graph\n",
    "plt.plot(count_data.index, count_data.values, marker='o')\n",
    "plt.xlabel('Tenure')\n",
    "plt.ylabel('Number of customers')\n",
    "plt.title('Customer Count by Tenure')\n",
    "plt.grid(True)\n",
    "plt.show()"
   ]
  },
  {
   "cell_type": "code",
   "execution_count": 95,
   "metadata": {},
   "outputs": [
    {
     "data": {
      "image/png": "[encoded data removed]",
      "text/plain": [
       "<Figure size 1080x720 with 9 Axes>"
      ]
     },
     "metadata": {
      "needs_background": "light"
     },
     "output_type": "display_data"
    }
   ],
   "source": [
    "# Analyzing once more the distribution of numerical variables, to compare with the first ones\n",
    "# and see if we interfered a lot with the distribution of the data after replacing the missing ones with zero\n",
    "\n",
    "df.hist(figsize=(15, 10));"
   ]
  },
  {
   "cell_type": "markdown",
   "metadata": {},
   "source": [
    "Apparently the distributions haven't changed much."
   ]
  },
  {
   "cell_type": "code",
   "execution_count": 96,
   "metadata": {},
   "outputs": [
    {
     "data": {
      "image/png": "[encoded data removed]",
      "text/plain": [
       "<Figure size 720x360 with 2 Axes>"
      ]
     },
     "metadata": {
      "needs_background": "light"
     },
     "output_type": "display_data"
    }
   ],
   "source": [
    "# Making correlation checking easier using a heatmap from the 'seaborn' library\n",
    "correlation_matrix = df.corr()\n",
    "plt.figure(figsize=(10, 5))\n",
    "sns.heatmap(correlation_matrix, annot=True, cmap='coolwarm')\n",
    "plt.title('Correlation between variables')\n",
    "plt.show()"
   ]
  },
  {
   "cell_type": "markdown",
   "metadata": {},
   "source": [
    "The two variables that were most closely related continue to be correlated, as well as `IsActiveMember`, despite having dropped a little, remains the one most closely related to `Tenure`.\n",
    "\n",
    "Changing the NaN values to zeros seems to have been a good choice."
   ]
  },
  {
   "cell_type": "markdown",
   "metadata": {},
   "source": [
    "### Encoding of Categorical Variables"
   ]
  },
  {
   "cell_type": "markdown",
   "metadata": {},
   "source": [
    "We have some actions that we can perform to handle the categorical variables of our dataset. Here are some suggestions:\n",
    "\n",
    "* **Identify the categorical variables**: Check which columns of our dataframe contain categorical data. This can be done by looking at the data types of the columns or by looking at the nature of the variables.\n",
    "\n",
    "\n",
    "* **Analyze the cardinality of categorical variables**: Check the number of unique categories in each categorical variable. This will help us decide which encoding method is most suitable.\n",
    "\n",
    "\n",
    "* **Apply one-hot coding**: If we have categorical variables with low cardinality, that is, few unique categories, we can apply one-hot coding. This involves creating separate binary columns for each category and assigning a value of 1 for the present category and 0 for the other categories.\n",
    "\n",
    "\n",
    "* **Apply label encoding**: If we have categorical variables with high cardinality, i.e. many unique categories, we can apply label encoding. This involves assigning a unique numeric value to each category, turning the categorical variable into an ordinal numeric variable.\n",
    "\n",
    "\n",
    "* **Check the need for ordinal coding**: If we have categorical variables with a natural order, such as \"low\", \"medium\" and \"high\", we can perform ordinal coding, assigning numeric values that represent that order."
   ]
  },
  {
   "cell_type": "markdown",
   "metadata": {},
   "source": [
    "#### Identify the categorical variables:"
   ]
  },
  {
   "cell_type": "code",
   "execution_count": 97,
   "metadata": {},
   "outputs": [
    {
     "name": "stdout",
     "output_type": "stream",
     "text": [
      "<class 'pandas.core.frame.DataFrame'>\n",
      "RangeIndex: 10000 entries, 0 to 9999\n",
      "Data columns (total 11 columns):\n",
      " #   Column           Non-Null Count  Dtype  \n",
      "---  ------           --------------  -----  \n",
      " 0   CreditScore      10000 non-null  int64  \n",
      " 1   Geography        10000 non-null  object \n",
      " 2   Gender           10000 non-null  object \n",
      " 3   Age              10000 non-null  int64  \n",
      " 4   Tenure           10000 non-null  float64\n",
      " 5   Balance          10000 non-null  float64\n",
      " 6   NumOfProducts    10000 non-null  int64  \n",
      " 7   HasCrCard        10000 non-null  int64  \n",
      " 8   IsActiveMember   10000 non-null  int64  \n",
      " 9   EstimatedSalary  10000 non-null  float64\n",
      " 10  Exited           10000 non-null  int64  \n",
      "dtypes: float64(3), int64(6), object(2)\n",
      "memory usage: 859.5+ KB\n"
     ]
    }
   ],
   "source": [
    "# Analyzing the nature and types of data of each category\n",
    "df.info()"
   ]
  },
  {
   "cell_type": "markdown",
   "metadata": {},
   "source": [
    "When analyzing the columns, we can consider the following variables as categorical: `Geography` and `Gender`."
   ]
  },
  {
   "cell_type": "markdown",
   "metadata": {},
   "source": [
    "#### Analyze the cardinality of variables"
   ]
  },
  {
   "cell_type": "code",
   "execution_count": 98,
   "metadata": {},
   "outputs": [
    {
     "name": "stdout",
     "output_type": "stream",
     "text": [
      "The variable 'Geography' has 3 unique values.\n",
      "The variable 'Gender' has 2 unique values.\n",
      "The variable 'Age' has 70 unique values.\n",
      "The variable 'Tenure' has 11 unique values.\n",
      "The variable 'NumOfProducts' has 4 unique values.\n",
      "The variable 'HasCrCard' has 2 unique values.\n",
      "The variable 'IsActiveMember' has 2 unique values.\n",
      "The variable 'EstimatedSalary' has 9999 unique values.\n",
      "The variable 'Exited' has 2 unique values.\n"
     ]
    }
   ],
   "source": [
    "categorical_columns = ['Geography', 'Gender', 'Age', 'Tenure', 'NumOfProducts', 'HasCrCard', 'IsActiveMember', 'EstimatedSalary', 'Exited']\n",
    "\n",
    "for column in categorical_columns:\n",
    "     unique_values = df[column].nunique()\n",
    "     print(f\"The variable '{column}' has {unique_values} unique values.\")"
   ]
  },
  {
   "cell_type": "markdown",
   "metadata": {},
   "source": [
    "Interesting. Probably some columns will need to perform grouping and others will not even need to be encoded.\n",
    "\n",
    "\n",
    "Let's check it out one more time."
   ]
  },
  {
   "cell_type": "code",
   "execution_count": 99,
   "metadata": {},
   "outputs": [
    {
     "data": {
      "text/html": [
       "<div>\n",
       "<style scoped>\n",
       "    .dataframe tbody tr th:only-of-type {\n",
       "        vertical-align: middle;\n",
       "    }\n",
       "\n",
       "    .dataframe tbody tr th {\n",
       "        vertical-align: top;\n",
       "    }\n",
       "\n",
       "    .dataframe thead th {\n",
       "        text-align: right;\n",
       "    }\n",
       "</style>\n",
       "<table border=\"1\" class=\"dataframe\">\n",
       "  <thead>\n",
       "    <tr style=\"text-align: right;\">\n",
       "      <th></th>\n",
       "      <th>CreditScore</th>\n",
       "      <th>Geography</th>\n",
       "      <th>Gender</th>\n",
       "      <th>Age</th>\n",
       "      <th>Tenure</th>\n",
       "      <th>Balance</th>\n",
       "      <th>NumOfProducts</th>\n",
       "      <th>HasCrCard</th>\n",
       "      <th>IsActiveMember</th>\n",
       "      <th>EstimatedSalary</th>\n",
       "      <th>Exited</th>\n",
       "    </tr>\n",
       "  </thead>\n",
       "  <tbody>\n",
       "    <tr>\n",
       "      <th>0</th>\n",
       "      <td>619</td>\n",
       "      <td>France</td>\n",
       "      <td>Female</td>\n",
       "      <td>42</td>\n",
       "      <td>2.0</td>\n",
       "      <td>0.00</td>\n",
       "      <td>1</td>\n",
       "      <td>1</td>\n",
       "      <td>1</td>\n",
       "      <td>101348.88</td>\n",
       "      <td>1</td>\n",
       "    </tr>\n",
       "    <tr>\n",
       "      <th>1</th>\n",
       "      <td>608</td>\n",
       "      <td>Spain</td>\n",
       "      <td>Female</td>\n",
       "      <td>41</td>\n",
       "      <td>1.0</td>\n",
       "      <td>83807.86</td>\n",
       "      <td>1</td>\n",
       "      <td>0</td>\n",
       "      <td>1</td>\n",
       "      <td>112542.58</td>\n",
       "      <td>0</td>\n",
       "    </tr>\n",
       "    <tr>\n",
       "      <th>2</th>\n",
       "      <td>502</td>\n",
       "      <td>France</td>\n",
       "      <td>Female</td>\n",
       "      <td>42</td>\n",
       "      <td>8.0</td>\n",
       "      <td>159660.80</td>\n",
       "      <td>3</td>\n",
       "      <td>1</td>\n",
       "      <td>0</td>\n",
       "      <td>113931.57</td>\n",
       "      <td>1</td>\n",
       "    </tr>\n",
       "    <tr>\n",
       "      <th>3</th>\n",
       "      <td>699</td>\n",
       "      <td>France</td>\n",
       "      <td>Female</td>\n",
       "      <td>39</td>\n",
       "      <td>1.0</td>\n",
       "      <td>0.00</td>\n",
       "      <td>2</td>\n",
       "      <td>0</td>\n",
       "      <td>0</td>\n",
       "      <td>93826.63</td>\n",
       "      <td>0</td>\n",
       "    </tr>\n",
       "    <tr>\n",
       "      <th>4</th>\n",
       "      <td>850</td>\n",
       "      <td>Spain</td>\n",
       "      <td>Female</td>\n",
       "      <td>43</td>\n",
       "      <td>2.0</td>\n",
       "      <td>125510.82</td>\n",
       "      <td>1</td>\n",
       "      <td>1</td>\n",
       "      <td>1</td>\n",
       "      <td>79084.10</td>\n",
       "      <td>0</td>\n",
       "    </tr>\n",
       "  </tbody>\n",
       "</table>\n",
       "</div>"
      ],
      "text/plain": [
       "   CreditScore Geography  Gender  Age  Tenure    Balance  NumOfProducts  \\\n",
       "0          619    France  Female   42     2.0       0.00              1   \n",
       "1          608     Spain  Female   41     1.0   83807.86              1   \n",
       "2          502    France  Female   42     8.0  159660.80              3   \n",
       "3          699    France  Female   39     1.0       0.00              2   \n",
       "4          850     Spain  Female   43     2.0  125510.82              1   \n",
       "\n",
       "   HasCrCard  IsActiveMember  EstimatedSalary  Exited  \n",
       "0          1               1        101348.88       1  \n",
       "1          0               1        112542.58       0  \n",
       "2          1               0        113931.57       1  \n",
       "3          0               0         93826.63       0  \n",
       "4          1               1         79084.10       0  "
      ]
     },
     "execution_count": 99,
     "metadata": {},
     "output_type": "execute_result"
    }
   ],
   "source": [
    "# Checking category values to identify those that need coding\n",
    "df.head()"
   ]
  },
  {
   "cell_type": "markdown",
   "metadata": {},
   "source": [
    "* For columns `HasCrCard`, `IsActiveMember` and `Exited` we will keep the already present **binary encoding**.\n",
    "\n",
    "\n",
    "* For creating a Machine Learning model, the columns `CreditScore`, `Age`, `Tenure`, `Balance`, `NumOfProducts` and `EstimatedSalary` represent continuous or discrete numerical values and do not need to be categorized, since which are already represented by numeric values. But let's apply a normalization of these numerical attributes using the *StandardScaler* class from the *sklearn.preprocessing* library to ensure that different values have the same importance in the model.\n",
    "\n",
    "\n",
    "* For `Geography` and `Gender` we will use **label encoder / preprocessing** from the sklearn library."
   ]
  },
  {
   "cell_type": "markdown",
   "metadata": {},
   "source": [
    "#### Apply the new encodings"
   ]
  },
  {
   "cell_type": "code",
   "execution_count": 100,
   "metadata": {},
   "outputs": [
    {
     "name": "stdout",
     "output_type": "stream",
     "text": [
      "Geography: ['France' 'Spain' 'Germany']\n",
      "Geography: [0 2 1]\n",
      "Gender: ['Female' 'Male']\n",
      "Gender: [0 1]\n"
     ]
    }
   ],
   "source": [
    "# Looping through each column in the DataFrame where the type is 'object'\n",
    "for col in df.select_dtypes(include=['object']).columns:\n",
    "    \n",
    "    # Printing column name and unique values\n",
    "    print(f\"{col}: {df[col].unique()}\")\n",
    "\n",
    "    # Initializing a LabelEncoder object\n",
    "    label_encoder = preprocessing.LabelEncoder()\n",
    "\n",
    "    # Adjusting the encoder to unique values in the column\n",
    "    label_encoder.fit(df[col].unique())\n",
    "\n",
    "    # Transforming the column using the encoder\n",
    "    df[col] = label_encoder.transform(df[col])\n",
    "\n",
    "    # Printing the column name and encoded unique values\n",
    "    print(f\"{col}: {df[col].unique()}\")"
   ]
  },
  {
   "cell_type": "code",
   "execution_count": 101,
   "metadata": {},
   "outputs": [
    {
     "data": {
      "text/html": [
       "<div>\n",
       "<style scoped>\n",
       "    .dataframe tbody tr th:only-of-type {\n",
       "        vertical-align: middle;\n",
       "    }\n",
       "\n",
       "    .dataframe tbody tr th {\n",
       "        vertical-align: top;\n",
       "    }\n",
       "\n",
       "    .dataframe thead th {\n",
       "        text-align: right;\n",
       "    }\n",
       "</style>\n",
       "<table border=\"1\" class=\"dataframe\">\n",
       "  <thead>\n",
       "    <tr style=\"text-align: right;\">\n",
       "      <th></th>\n",
       "      <th>CreditScore</th>\n",
       "      <th>Geography</th>\n",
       "      <th>Gender</th>\n",
       "      <th>Age</th>\n",
       "      <th>Tenure</th>\n",
       "      <th>Balance</th>\n",
       "      <th>NumOfProducts</th>\n",
       "      <th>HasCrCard</th>\n",
       "      <th>IsActiveMember</th>\n",
       "      <th>EstimatedSalary</th>\n",
       "      <th>Exited</th>\n",
       "    </tr>\n",
       "  </thead>\n",
       "  <tbody>\n",
       "    <tr>\n",
       "      <th>0</th>\n",
       "      <td>619</td>\n",
       "      <td>0</td>\n",
       "      <td>0</td>\n",
       "      <td>42</td>\n",
       "      <td>2.0</td>\n",
       "      <td>0.00</td>\n",
       "      <td>1</td>\n",
       "      <td>1</td>\n",
       "      <td>1</td>\n",
       "      <td>101348.88</td>\n",
       "      <td>1</td>\n",
       "    </tr>\n",
       "    <tr>\n",
       "      <th>1</th>\n",
       "      <td>608</td>\n",
       "      <td>2</td>\n",
       "      <td>0</td>\n",
       "      <td>41</td>\n",
       "      <td>1.0</td>\n",
       "      <td>83807.86</td>\n",
       "      <td>1</td>\n",
       "      <td>0</td>\n",
       "      <td>1</td>\n",
       "      <td>112542.58</td>\n",
       "      <td>0</td>\n",
       "    </tr>\n",
       "    <tr>\n",
       "      <th>2</th>\n",
       "      <td>502</td>\n",
       "      <td>0</td>\n",
       "      <td>0</td>\n",
       "      <td>42</td>\n",
       "      <td>8.0</td>\n",
       "      <td>159660.80</td>\n",
       "      <td>3</td>\n",
       "      <td>1</td>\n",
       "      <td>0</td>\n",
       "      <td>113931.57</td>\n",
       "      <td>1</td>\n",
       "    </tr>\n",
       "    <tr>\n",
       "      <th>3</th>\n",
       "      <td>699</td>\n",
       "      <td>0</td>\n",
       "      <td>0</td>\n",
       "      <td>39</td>\n",
       "      <td>1.0</td>\n",
       "      <td>0.00</td>\n",
       "      <td>2</td>\n",
       "      <td>0</td>\n",
       "      <td>0</td>\n",
       "      <td>93826.63</td>\n",
       "      <td>0</td>\n",
       "    </tr>\n",
       "    <tr>\n",
       "      <th>4</th>\n",
       "      <td>850</td>\n",
       "      <td>2</td>\n",
       "      <td>0</td>\n",
       "      <td>43</td>\n",
       "      <td>2.0</td>\n",
       "      <td>125510.82</td>\n",
       "      <td>1</td>\n",
       "      <td>1</td>\n",
       "      <td>1</td>\n",
       "      <td>79084.10</td>\n",
       "      <td>0</td>\n",
       "    </tr>\n",
       "  </tbody>\n",
       "</table>\n",
       "</div>"
      ],
      "text/plain": [
       "   CreditScore  Geography  Gender  Age  Tenure    Balance  NumOfProducts  \\\n",
       "0          619          0       0   42     2.0       0.00              1   \n",
       "1          608          2       0   41     1.0   83807.86              1   \n",
       "2          502          0       0   42     8.0  159660.80              3   \n",
       "3          699          0       0   39     1.0       0.00              2   \n",
       "4          850          2       0   43     2.0  125510.82              1   \n",
       "\n",
       "   HasCrCard  IsActiveMember  EstimatedSalary  Exited  \n",
       "0          1               1        101348.88       1  \n",
       "1          0               1        112542.58       0  \n",
       "2          1               0        113931.57       1  \n",
       "3          0               0         93826.63       0  \n",
       "4          1               1         79084.10       0  "
      ]
     },
     "execution_count": 101,
     "metadata": {},
     "output_type": "execute_result"
    }
   ],
   "source": [
    "# Checking the encoded 'df' dataframe\n",
    "df.head()"
   ]
  },
  {
   "cell_type": "markdown",
   "metadata": {},
   "source": [
    "There you go!\n",
    "\n",
    "Now we only have numbers!"
   ]
  },
  {
   "cell_type": "markdown",
   "metadata": {},
   "source": [
    "### Division into Training and Test Sets"
   ]
  },
  {
   "cell_type": "markdown",
   "metadata": {},
   "source": [
    "In this section, we will split the data into training and testing sets. The purpose of this division is to evaluate the performance of the model on previously unseen data and to verify its generalizability."
   ]
  },
  {
   "cell_type": "code",
   "execution_count": 102,
   "metadata": {},
   "outputs": [
    {
     "name": "stdout",
     "output_type": "stream",
     "text": [
      "Training set size: 7083\n",
      "Test set size: 1500\n",
      "Validation set size: 1417\n"
     ]
    }
   ],
   "source": [
    "# Going back to the beginning to import the train_test_split function from the sklearn.model_selection module\n",
    "\n",
    "# Division into training, validation and test sets\n",
    "train_ratio = 0.75 # ratio to training set\n",
    "val_ratio = 0.15 # ratio to validation set\n",
    "test_ratio = 0.15 # ratio to test set\n",
    "\n",
    "# Division into training and testing set\n",
    "train_data, test_data = train_test_split(df, test_size=test_ratio, random_state=42)\n",
    "\n",
    "# Division of training set into training and validation set\n",
    "train_data, val_data = train_test_split(train_data, test_size=val_ratio/(train_ratio+val_ratio), random_state=42)\n",
    "\n",
    "# Check the size of the sets\n",
    "print(\"Training set size:\", len(train_data))\n",
    "print(\"Test set size:\", len(test_data))\n",
    "print(\"Validation set size:\", len(val_data))"
   ]
  },
  {
   "cell_type": "code",
   "execution_count": 103,
   "metadata": {},
   "outputs": [],
   "source": [
    "# Separating variables and target from the training set\n",
    "features_train = train_data.drop(\"Exited\", axis=1)\n",
    "target_train = train_data[\"Exited\"]\n",
    "\n",
    "# Separating the variables and target from the test set\n",
    "features_test = test_data.drop(\"Exited\", axis=1)\n",
    "target_test = test_data[\"Exited\"]\n",
    "\n",
    "# Separating the variables and target from the validation set\n",
    "features_valid = val_data.drop(\"Exited\", axis=1)\n",
    "target_valid = val_data[\"Exited\"]"
   ]
  },
  {
   "cell_type": "markdown",
   "metadata": {},
   "source": [
    "## Class Balance Analysis"
   ]
  },
  {
   "cell_type": "markdown",
   "metadata": {},
   "source": [
    "In this section, we will do an analysis of the equilibrium of the classes in the training set. The objective is to verify if there is a significant imbalance between the positive classes (customers who left the bank) and the negative classes (customers who remained in the bank). With this analysis, we will have an initial understanding of the distribution of the data and be able to make more informed decisions when building and evaluating our model."
   ]
  },
  {
   "cell_type": "markdown",
   "metadata": {},
   "source": [
    "### Target Variable Distribution"
   ]
  },
  {
   "cell_type": "code",
   "execution_count": 104,
   "metadata": {},
   "outputs": [
    {
     "name": "stdout",
     "output_type": "stream",
     "text": [
      "Balancing the classes in the training set:\n",
      "0    0.796979\n",
      "1    0.203021\n",
      "Name: Exited, dtype: float64\n",
      "Balancing the classes in the validation set:\n",
      "0    0.784051\n",
      "1    0.215949\n",
      "Name: Exited, dtype: float64\n"
     ]
    }
   ],
   "source": [
    "# Checking the balance of classes in the training set\n",
    "print(\"Balancing the classes in the training set:\")\n",
    "print(target_train.value_counts(normalize=True))\n",
    "\n",
    "# Checking the balance of classes in the validation set\n",
    "print(\"Balancing the classes in the validation set:\")\n",
    "print(target_valid.value_counts(normalize=True))"
   ]
  },
  {
   "cell_type": "markdown",
   "metadata": {},
   "source": [
    "When we analyze the balancing of classes in the training set, we can see that the proportion of classes is approximately 79.7% for class 0 (customers who did not leave the bank) and 20.3% for class 1 (customers who left the bank). In the validation set, the proportions are around 78.4% for class 0 and 21.5% for class 1. These results indicate that **we have a certain imbalance in the classes**, with class 0 being predominant in both sets.\n",
    "\n",
    "This information is relevant to our project, since we are dealing with a problem of predicting customers who will leave the bank. Class imbalance can affect the performance of our machine learning model, as it can become biased in favor of the majority class.\n",
    "\n",
    "Therefore, it will be important to consider class balancing techniques during the training and evaluation of the model, in order to ensure that it is able to adequately handle both types of customers, both those who leave the bank and those who remain."
   ]
  },
  {
   "cell_type": "markdown",
   "metadata": {},
   "source": [
    "### Consequences of Class Imbalance"
   ]
  },
  {
   "cell_type": "markdown",
   "metadata": {},
   "source": [
    "Some of the main problems that can arise due to class imbalance are:\n",
    "\n",
    "* **Model bias**: The model may be biased towards the majority class, resulting in difficulty in correctly predicting minority class cases.\n",
    "\n",
    "\n",
    "* **Low Precision**: Model precision can be high for the majority class, but low for the minority class. This can be misleading as the model may be making incorrect predictions for the minority class.\n",
    "\n",
    "\n",
    "* **Misleading evaluation metrics**: Common metrics such as accuracy can be misleading in cases of class imbalance. For example, a model that always predicts the majority class will have high accuracy but will not be useful for predicting the minority class.\n",
    "\n",
    "\n",
    "* **Overfitting**: Class imbalance can lead to a greater risk of overfitting, where the model fits too tightly to the majority class data and fails to properly generalize to new data.\n",
    "\n",
    "\n",
    "To deal with these consequences of class imbalance, it is important to **apply class balancing techniques** during model training and evaluation."
   ]
  },
  {
   "cell_type": "markdown",
   "metadata": {},
   "source": [
    "## Building the Initial Model"
   ]
  },
  {
   "cell_type": "markdown",
   "metadata": {},
   "source": [
    "The purpose of building the initial model is to have a reference to compare with more advanced models that will be developed in the next steps. Based on initial performance, we will be able to identify areas for improvement and make adjustments to the model for better results."
   ]
  },
  {
   "cell_type": "markdown",
   "metadata": {},
   "source": [
    "### Model Training without Considering Class Imbalance"
   ]
  },
  {
   "cell_type": "code",
   "execution_count": 105,
   "metadata": {},
   "outputs": [
    {
     "name": "stdout",
     "output_type": "stream",
     "text": [
      "              precision    recall  f1-score   support\n",
      "\n",
      "           0       0.79      0.98      0.88      1111\n",
      "           1       0.49      0.06      0.10       306\n",
      "\n",
      "    accuracy                           0.78      1417\n",
      "   macro avg       0.64      0.52      0.49      1417\n",
      "weighted avg       0.72      0.78      0.71      1417\n",
      "\n"
     ]
    }
   ],
   "source": [
    "# Instantiating the logistic regression model\n",
    "model = LogisticRegression()\n",
    "\n",
    "# Training the model on the training data\n",
    "model.fit(features_train, target_train)\n",
    "\n",
    "# Making predictions on the validation data\n",
    "predictions = model.predict(features_valid)\n",
    "\n",
    "# Evaluating model performance\n",
    "print(classification_report(target_valid, predictions))"
   ]
  },
  {
   "cell_type": "markdown",
   "metadata": {},
   "source": [
    "### Evaluation of Initial Model Performance"
   ]
  },
  {
   "cell_type": "markdown",
   "metadata": {},
   "source": [
    "After training the model without considering class imbalance, we evaluated its performance using the **ranking report metrics**. The results are as follows:\n",
    "\n",
    "\n",
    "* **Precision** (Precision):\n",
    "\n",
    "Class 0: 0.79\n",
    "\n",
    "Class 1: 0.49\n",
    "\n",
    "\n",
    "* **Recall** (Sensitivity):\n",
    "\n",
    "Class 0: 0.98\n",
    "\n",
    "Class 1: 0.06\n",
    "\n",
    "\n",
    "* **F1-score**:\n",
    "\n",
    "Class 0: 0.88\n",
    "\n",
    "Class 1: 0.10\n",
    "\n",
    "Accuracy: 0.78\n",
    "\n",
    "Observing these results, we can see that the model obtained a high precision for class 0 (customers who did not leave), but a low precision for class 1 (customers who left). Furthermore, the recall for class 1 is also low, indicating that the model is having difficulty correctly identifying customers who have left."
   ]
  },
  {
   "cell_type": "markdown",
   "metadata": {},
   "source": [
    "### Findings and Limitations"
   ]
  },
  {
   "cell_type": "markdown",
   "metadata": {},
   "source": [
    "The F1-score value is a harmonic mean between precision and recall and gives us an overall measure of the model's performance. In the case of the initial model, the F1-score is low for class 1, indicating that the model is not managing to balance well the trade-off between accuracy and recall for this class.\n",
    "\n",
    "**In summary, the initial model trained without considering class imbalance has an unsatisfactory performance in predicting customers leaving the bank**. Therefore, it is necessary to seek strategies to improve performance and correct class imbalance."
   ]
  },
  {
   "cell_type": "markdown",
   "metadata": {},
   "source": [
    "## Model Improvement"
   ]
  },
  {
   "cell_type": "markdown",
   "metadata": {},
   "source": [
    "In this section, we will focus on improving the performance of the initial model, normalizing numerical attributes and taking into account the class imbalance present in the data. We'll cover different techniques for correcting this imbalance and assess the impact of these approaches on overall model performance."
   ]
  },
  {
   "cell_type": "markdown",
   "metadata": {},
   "source": [
    "### Normalization of numerical attributes"
   ]
  },
  {
   "cell_type": "markdown",
   "metadata": {},
   "source": [
    "In this code snippet, we will apply the normalization of numerical attributes using the `StandardScaler` class from the `sklearn.preprocessing` library. We will choose to do this transformation on the training, validation and test sets to ensure that the values of different scales have the same importance in the model."
   ]
  },
  {
   "cell_type": "code",
   "execution_count": 106,
   "metadata": {
    "scrolled": true
   },
   "outputs": [
    {
     "data": {
      "text/html": [
       "<div>\n",
       "<style scoped>\n",
       "    .dataframe tbody tr th:only-of-type {\n",
       "        vertical-align: middle;\n",
       "    }\n",
       "\n",
       "    .dataframe tbody tr th {\n",
       "        vertical-align: top;\n",
       "    }\n",
       "\n",
       "    .dataframe thead th {\n",
       "        text-align: right;\n",
       "    }\n",
       "</style>\n",
       "<table border=\"1\" class=\"dataframe\">\n",
       "  <thead>\n",
       "    <tr style=\"text-align: right;\">\n",
       "      <th></th>\n",
       "      <th>CreditScore</th>\n",
       "      <th>Geography</th>\n",
       "      <th>Gender</th>\n",
       "      <th>Age</th>\n",
       "      <th>Tenure</th>\n",
       "      <th>Balance</th>\n",
       "      <th>NumOfProducts</th>\n",
       "      <th>HasCrCard</th>\n",
       "      <th>IsActiveMember</th>\n",
       "      <th>EstimatedSalary</th>\n",
       "    </tr>\n",
       "  </thead>\n",
       "  <tbody>\n",
       "    <tr>\n",
       "      <th>6252</th>\n",
       "      <td>-0.575693</td>\n",
       "      <td>1</td>\n",
       "      <td>1</td>\n",
       "      <td>-0.661804</td>\n",
       "      <td>-0.494656</td>\n",
       "      <td>0.335315</td>\n",
       "      <td>0.805116</td>\n",
       "      <td>0</td>\n",
       "      <td>0</td>\n",
       "      <td>-1.011739</td>\n",
       "    </tr>\n",
       "    <tr>\n",
       "      <th>4684</th>\n",
       "      <td>-0.296070</td>\n",
       "      <td>0</td>\n",
       "      <td>1</td>\n",
       "      <td>0.379897</td>\n",
       "      <td>-1.137115</td>\n",
       "      <td>-1.213746</td>\n",
       "      <td>0.805116</td>\n",
       "      <td>1</td>\n",
       "      <td>1</td>\n",
       "      <td>0.803046</td>\n",
       "    </tr>\n",
       "    <tr>\n",
       "      <th>1731</th>\n",
       "      <td>-0.523911</td>\n",
       "      <td>2</td>\n",
       "      <td>0</td>\n",
       "      <td>0.474597</td>\n",
       "      <td>-0.173427</td>\n",
       "      <td>-1.213746</td>\n",
       "      <td>0.805116</td>\n",
       "      <td>1</td>\n",
       "      <td>0</td>\n",
       "      <td>-0.720708</td>\n",
       "    </tr>\n",
       "    <tr>\n",
       "      <th>4742</th>\n",
       "      <td>-1.507767</td>\n",
       "      <td>1</td>\n",
       "      <td>1</td>\n",
       "      <td>1.895098</td>\n",
       "      <td>1.111491</td>\n",
       "      <td>0.694801</td>\n",
       "      <td>0.805116</td>\n",
       "      <td>1</td>\n",
       "      <td>1</td>\n",
       "      <td>1.224689</td>\n",
       "    </tr>\n",
       "    <tr>\n",
       "      <th>4521</th>\n",
       "      <td>-0.948522</td>\n",
       "      <td>2</td>\n",
       "      <td>0</td>\n",
       "      <td>-1.135305</td>\n",
       "      <td>0.790262</td>\n",
       "      <td>0.788407</td>\n",
       "      <td>-0.923480</td>\n",
       "      <td>1</td>\n",
       "      <td>1</td>\n",
       "      <td>0.252846</td>\n",
       "    </tr>\n",
       "  </tbody>\n",
       "</table>\n",
       "</div>"
      ],
      "text/plain": [
       "      CreditScore  Geography  Gender       Age    Tenure   Balance  \\\n",
       "6252    -0.575693          1       1 -0.661804 -0.494656  0.335315   \n",
       "4684    -0.296070          0       1  0.379897 -1.137115 -1.213746   \n",
       "1731    -0.523911          2       0  0.474597 -0.173427 -1.213746   \n",
       "4742    -1.507767          1       1  1.895098  1.111491  0.694801   \n",
       "4521    -0.948522          2       0 -1.135305  0.790262  0.788407   \n",
       "\n",
       "      NumOfProducts  HasCrCard  IsActiveMember  EstimatedSalary  \n",
       "6252       0.805116          0               0        -1.011739  \n",
       "4684       0.805116          1               1         0.803046  \n",
       "1731       0.805116          1               0        -0.720708  \n",
       "4742       0.805116          1               1         1.224689  \n",
       "4521      -0.923480          1               1         0.252846  "
      ]
     },
     "execution_count": 106,
     "metadata": {},
     "output_type": "execute_result"
    }
   ],
   "source": [
    "numeric=['CreditScore', 'Age', 'Tenure', 'Balance', 'NumOfProducts', 'EstimatedSalary']\n",
    "scaler = StandardScaler()\n",
    "scaler.fit(features_train[numeric])\n",
    "features_train[numeric] = scaler.transform(features_train[numeric])\n",
    "features_valid[numeric] = scaler.transform(features_valid[numeric])\n",
    "features_test[numeric] = scaler.transform(features_test[numeric])\n",
    "features_test.head()"
   ]
  },
  {
   "cell_type": "markdown",
   "metadata": {},
   "source": [
    "First, we select the relevant numerical attributes: 'CreditScore', 'Age', 'Tenure', 'Balance', 'NumOfProducts' and 'EstimatedSalary'. Next, we initialize a `StandardScaler()` object and fit it to the training data by calling the `fit()` method. This step calculates the mean and standard deviation of the numerical attributes in the training data.\n",
    "\n",
    "After that, we use the adjusted scaler to transform the attribute values in the training, validation and test sets. We call the `transform()` method passing the numerical attributes of each dataset as an argument.\n",
    "\n",
    "Thus, numerical attributes undergo a normalization process, where they are subtracted by the mean and divided by the standard deviation. This ensures that the values of these attributes are on the same scale, preventing attributes with large values from dominating the model to the detriment of attributes with smaller values.\n",
    "\n",
    "This normalization is performed in order to improve the performance of the model, especially in algorithms that are sensitive to the scale of attributes, such as logistic regression and algorithms based on distance.\n",
    "\n",
    "In the context of the work, we performed this normalization as a data pre-processing step to ensure better model performance in the churn prediction task."
   ]
  },
  {
   "cell_type": "markdown",
   "metadata": {},
   "source": [
    "### Approaches to Correcting Class Imbalance"
   ]
  },
  {
   "cell_type": "markdown",
   "metadata": {},
   "source": [
    "First, we'll explore specific approaches to dealing with class imbalance, such as **oversampling** and **undersampling**. These techniques will help us balance the representation of minority and majority classes, improving the model's ability to learn effectively from the available data."
   ]
  },
  {
   "cell_type": "markdown",
   "metadata": {},
   "source": [
    "#### Technique for correcting imbalance: Oversampling"
   ]
  },
  {
   "cell_type": "markdown",
   "metadata": {},
   "source": [
    "Oversampling involves generating new instances of the minority class in order to balance the dataset. This can be done through direct replication of existing instances (duplication) so that the model can properly learn their characteristics and patterns."
   ]
  },
  {
   "cell_type": "code",
   "execution_count": 107,
   "metadata": {},
   "outputs": [
    {
     "name": "stdout",
     "output_type": "stream",
     "text": [
      "Class balancing after oversampling:\n",
      "0    0.5\n",
      "1    0.5\n",
      "Name: Exited, dtype: float64\n"
     ]
    }
   ],
   "source": [
    "# Concatenating features and target in a single DataFrame\n",
    "train_data = pd.concat([features_train, target_train], axis=1)\n",
    "\n",
    "# Separating majority and minority class instances\n",
    "train_data_majority = train_data[train_data['Exited'] == 0]\n",
    "train_data_minority = train_data[train_data['Exited'] == 1]\n",
    "\n",
    "# Performing oversampling by randomly duplicating instances of the minority class\n",
    "train_data_minority_oversampled = train_data_minority.sample(n=len(train_data_majority), replace=True, random_state=42)\n",
    "\n",
    "# Combining the oversampled minority class with the majority class\n",
    "train_data_combined = pd.concat([train_data_majority, train_data_minority_oversampled])\n",
    "\n",
    "# Separating the features and the target again\n",
    "features_train_oversampled = train_data_combined.drop(\"Exited\", axis=1)\n",
    "target_train_oversampled = train_data_combined[\"Exited\"]\n",
    "\n",
    "# Checking class balance after oversampling\n",
    "print(\"Class balancing after oversampling:\")\n",
    "print(target_train_oversampled.value_counts(normalize=True))"
   ]
  },
  {
   "cell_type": "code",
   "execution_count": 108,
   "metadata": {},
   "outputs": [
    {
     "name": "stdout",
     "output_type": "stream",
     "text": [
      "Classification report after Oversampling:\n",
      "              precision    recall  f1-score   support\n",
      "\n",
      "           0       0.89      0.70      0.79      1111\n",
      "           1       0.39      0.69      0.50       306\n",
      "\n",
      "    accuracy                           0.70      1417\n",
      "   macro avg       0.64      0.70      0.64      1417\n",
      "weighted avg       0.78      0.70      0.72      1417\n",
      "\n"
     ]
    }
   ],
   "source": [
    "# Training and evaluating the model with the data after oversampling\n",
    "model_oversampled = LogisticRegression()\n",
    "model_oversampled.fit(features_train_oversampled, target_train_oversampled)\n",
    "predictions_oversampled = model_oversampled.predict(features_valid)\n",
    "\n",
    "# Evaluating model performance after oversampling\n",
    "print(\"Classification report after Oversampling:\")\n",
    "print(classification_report(target_valid, predictions_oversampled))"
   ]
  },
  {
   "cell_type": "markdown",
   "metadata": {},
   "source": [
    "**After oversampling**, we can observe a change in model performance. Let's look at the ranking report metrics before and after oversampling:\n",
    "\n",
    "* Before Oversampling:\n",
    "\n",
    "     * Accuracy: 0.78\n",
    "     * Precision for class 0: 0.79\n",
    "     * Precision for class 1: 0.49\n",
    "     * Recall (Sensitivity) for class 0: 0.98\n",
    "     * Recall (Sensitivity) for class 1: 0.06\n",
    "     * F1-score for class 0: 0.88\n",
    "     * F1-score for class 1: 0.10\n",
    "\n",
    "\n",
    "\n",
    "* After Oversampling:\n",
    "\n",
    "     * Accuracy: 0.70\n",
    "     * Precision for class 0: 0.89\n",
    "     * Precision for class 1: 0.39\n",
    "     * Recall (Sensitivity) for class 0: 0.70\n",
    "     * Recall (Sensitivity) for class 1: 0.69\n",
    "     * F1-score for class 0: 0.79\n",
    "     * F1-score for class 1: 0.50\n",
    "\n",
    "\n",
    "When comparing the results before and after oversampling, we observed a significant improvement in the recall and F1-score metrics for the minority class (class 1), indicating that the model is being able to better identify examples of this class. However, the accuracy of the model decreased after oversampling was applied.\n",
    "\n",
    "\n",
    "This performance improvement for class 1 is encouraging as we are dealing with an unbalanced dataset where class 1 (customers who have left the bank) is the minority class. Oversampling allowed the model to be exposed to more class 1 examples during training, helping it to learn more relevant patterns for that class.\n",
    "\n",
    "\n",
    "However, it is important to consider that accuracy alone may not be a suitable metric to assess model performance on unbalanced datasets. In these cases, metrics such as recall and F1-score are more informative, as they give us a more accurate measure of the model's ability to correctly identify the minority class examples.\n",
    "\n",
    "\n",
    "Therefore, based on the oversampling results, we can conclude that this technique was effective in improving the model's performance in predicting customers who leave the bank.\n",
    "\n",
    "\n",
    "But let's now do the same thing for **Undersampling** and see if it gets better or worse."
   ]
  },
  {
   "cell_type": "markdown",
   "metadata": {},
   "source": [
    "#### Technique for correcting imbalance: Undersampling"
   ]
  },
  {
   "cell_type": "markdown",
   "metadata": {},
   "source": [
    "Undersampling involves reducing the number of instances of the majority class in order to balance the data set. This can be done by randomly removing instances of the majority class or by selecting a representative sample of the majority class. The idea behind undersampling is to reduce the influence of the majority class to allow the model to focus more on the minority class."
   ]
  },
  {
   "cell_type": "code",
   "execution_count": 109,
   "metadata": {
    "scrolled": true
   },
   "outputs": [
    {
     "name": "stdout",
     "output_type": "stream",
     "text": [
      "Class balancing after undersampling:\n",
      "0    0.5\n",
      "1    0.5\n",
      "Name: Exited, dtype: float64\n"
     ]
    }
   ],
   "source": [
    "# Concatenating features and target in a single DataFrame\n",
    "train_data = pd.concat([features_train, target_train], axis=1)\n",
    "\n",
    "# Separating majority and minority class instances\n",
    "train_data_majority = train_data[train_data['Exited'] == 0]\n",
    "train_data_minority = train_data[train_data['Exited'] == 1]\n",
    "\n",
    "# Undersampling by randomly selecting a representative sample of the majority class\n",
    "train_data_majority_undersampled = train_data_majority.sample(n=len(train_data_minority), random_state=42)\n",
    "\n",
    "# Combining the undersampled majority class with the minority class\n",
    "train_data_combined = pd.concat([train_data_majority_undersampled, train_data_minority])\n",
    "\n",
    "# Separating the features and the target again\n",
    "features_train_undersampled = train_data_combined.drop(\"Exited\", axis=1)\n",
    "target_train_undersampled = train_data_combined[\"Exited\"]\n",
    "\n",
    "# Checking class balance after undersampling\n",
    "print(\"Class balancing after undersampling:\")\n",
    "print(target_train_undersampled.value_counts(normalize=True))"
   ]
  },
  {
   "cell_type": "code",
   "execution_count": 110,
   "metadata": {},
   "outputs": [
    {
     "name": "stdout",
     "output_type": "stream",
     "text": [
      "Classification Report after Undersampling:\n",
      "              precision    recall  f1-score   support\n",
      "\n",
      "           0       0.90      0.71      0.79      1111\n",
      "           1       0.40      0.70      0.51       306\n",
      "\n",
      "    accuracy                           0.71      1417\n",
      "   macro avg       0.65      0.71      0.65      1417\n",
      "weighted avg       0.79      0.71      0.73      1417\n",
      "\n"
     ]
    }
   ],
   "source": [
    "# Training the model with the undersampled data\n",
    "model_undersampled = LogisticRegression()\n",
    "model_undersampled.fit(features_train_undersampled, target_train_undersampled)\n",
    "\n",
    "# Making predictions with the trained model\n",
    "predictions_undersampled = model_undersampled.predict(features_valid)\n",
    "\n",
    "# Evaluating the model with the undersampled data\n",
    "report_undersampled = classification_report(target_valid, predictions_undersampled)\n",
    "print(\"Classification Report after Undersampling:\")\n",
    "print(report_undersampled)"
   ]
  },
  {
   "cell_type": "markdown",
   "metadata": {},
   "source": [
    "Comparing the results of models with oversampling and undersampling, we observe the following differences:\n",
    "\n",
    "**Oversampling**:\n",
    "   * Accuracy: 0.70\n",
    "   * Precision for class 0: 0.89\n",
    "   * Precision for class 1: 0.39\n",
    "   * Recall (Sensitivity) for class 0: 0.70\n",
    "   * Recall (Sensitivity) for class 1: 0.69\n",
    "   * F1-score for class 0: 0.79\n",
    "   * F1-score for class 1: 0.50\n",
    "\n",
    "**Undersampling**:\n",
    "   * Accuracy: 0.71\n",
    "   * Precision for class 0: 0.90\n",
    "   * Precision for Class 1: 0.40\n",
    "   * Recall (Sensitivity) for class 0: 0.71\n",
    "   * Recall (Sensitivity) for class 1: 0.70\n",
    "   * F1-score for class 0: 0.79\n",
    "   * F1-score for class 1: 0.51\n",
    "\n",
    "\n",
    "Comparing the results, we can see that:\n",
    "\n",
    "* Precision for class 1 was slightly higher in the model with undersampling (0.40) compared to the model with oversampling (0.39).\n",
    "\n",
    "\n",
    "* The recall for class 1 was practically the same for both models, with values close to 0.70.\n",
    "\n",
    "\n",
    "* The F1-score for class 1 was slightly higher in the undersampled model (0.51) compared to the oversampled model (0.50).\n",
    "\n",
    "\n",
    "These results indicate that the undersampled model performed slightly better in predicting the minority class (clients who leave the bank) compared to the oversampled model.\n",
    "\n",
    "However, it is important to point out that the difference between the performance of the models is quite small. Both oversampling and undersampling approaches significantly improved recall and F1-score metrics for class 1 compared to the model without considering class imbalance.\n",
    "\n",
    "Despite the minor differences, we observed that **the undersampled model performed slightly better** than the oversampled model. Therefore, in addition to testing the unbalanced model once more, we will consider using the undersampled model with the adjusted parameters in the next section."
   ]
  },
  {
   "cell_type": "markdown",
   "metadata": {},
   "source": [
    "### Selection of the Best Model and Parameters"
   ]
  },
  {
   "cell_type": "markdown",
   "metadata": {},
   "source": [
    "Now that we've done the imbalance correction, we'll select the **best model** and the best parameters through training and cross-validation. We will evaluate different models such as logistic regression, decision trees and random forest and adjust their parameters to get the best possible performance."
   ]
  },
  {
   "cell_type": "markdown",
   "metadata": {},
   "source": [
    "#### Logistic Regression"
   ]
  },
  {
   "cell_type": "code",
   "execution_count": 111,
   "metadata": {
    "scrolled": false
   },
   "outputs": [
    {
     "name": "stdout",
     "output_type": "stream",
     "text": [
      "Best Logistic Regression Ranking Report:\n",
      "              precision    recall  f1-score   support\n",
      "\n",
      "           0       0.90      0.72      0.80      1111\n",
      "           1       0.40      0.70      0.51       306\n",
      "\n",
      "    accuracy                           0.71      1417\n",
      "   macro avg       0.65      0.71      0.65      1417\n",
      "weighted avg       0.79      0.71      0.74      1417\n",
      "\n",
      "Best Logistic Regression Parameters:\n",
      "{'C': 0.1, 'class_weight': 'balanced', 'penalty': 'l2', 'solver': 'liblinear'}\n"
     ]
    }
   ],
   "source": [
    "# Define the parameters to be tested\n",
    "param_grid = {\n",
    "     'C': [0.1, 1, 10],\n",
    "     'penalty': ['l1', 'l2'],\n",
    "     'solver': ['liblinear'],\n",
    "     'class_weight': ['balanced']\n",
    "}\n",
    "\n",
    "# Create the grid search object\n",
    "grid_search = GridSearchCV(LogisticRegression(), param_grid, cv=5, scoring='f1')\n",
    "\n",
    "# Perform grid search\n",
    "grid_search.fit(features_train_undersampled, target_train_undersampled)\n",
    "\n",
    "# Get the best model and its parameters\n",
    "best_model_lr = grid_search.best_estimator_\n",
    "best_params_lr = grid_search.best_params_\n",
    "\n",
    "# Train the best model with the training data\n",
    "best_model_lr.fit(features_train_undersampled, target_train_undersampled)\n",
    "\n",
    "# Make predictions with the best model\n",
    "predictions_best_lr = best_model_lr.predict(features_valid)\n",
    "\n",
    "# Evaluate the performance of the best model\n",
    "report_best_lr = classification_report(target_valid, predictions_best_lr)\n",
    "print(\"Best Logistic Regression Ranking Report:\")\n",
    "print(report_best_lr)\n",
    "\n",
    "# Print the best parameters found\n",
    "print(\"Best Logistic Regression Parameters:\")\n",
    "print(best_params_lr)"
   ]
  },
  {
   "cell_type": "markdown",
   "metadata": {},
   "source": [
    "#### Decision Trees"
   ]
  },
  {
   "cell_type": "code",
   "execution_count": 112,
   "metadata": {},
   "outputs": [
    {
     "name": "stdout",
     "output_type": "stream",
     "text": [
      "Best Decision Tree Ranking Report:\n",
      "              precision    recall  f1-score   support\n",
      "\n",
      "           0       0.92      0.70      0.80      1111\n",
      "           1       0.42      0.77      0.54       306\n",
      "\n",
      "    accuracy                           0.72      1417\n",
      "   macro avg       0.67      0.74      0.67      1417\n",
      "weighted avg       0.81      0.72      0.74      1417\n",
      "\n",
      "Best Decision Tree Parameters:\n",
      "{'class_weight': 'balanced', 'max_depth': 6}\n"
     ]
    }
   ],
   "source": [
    "# Define the parameters to be tested\n",
    "param_grid = {\n",
    "     'max_depth': np.linspace(1, 20, 20, dtype=int),\n",
    "     'class_weight': ['balanced']\n",
    "}\n",
    "\n",
    "# Create the grid search object\n",
    "grid_search = GridSearchCV(DecisionTreeClassifier(), param_grid, cv=5, scoring='f1')\n",
    "\n",
    "# Perform grid search\n",
    "grid_search.fit(features_train_undersampled, target_train_undersampled)\n",
    "\n",
    "# Get the best model and its parameters\n",
    "best_model_dt = grid_search.best_estimator_\n",
    "best_params_dt = grid_search.best_params_\n",
    "\n",
    "# Train the best model with the training data\n",
    "best_model_dt.fit(features_train_undersampled, target_train_undersampled)\n",
    "\n",
    "# Make predictions with the best model\n",
    "predictions_best_dt = best_model_dt.predict(features_valid)\n",
    "\n",
    "# Evaluate the performance of the best model\n",
    "report_best_dt = classification_report(target_valid, predictions_best_dt)\n",
    "print(\"Best Decision Tree Ranking Report:\")\n",
    "print(report_best_dt)\n",
    "\n",
    "# Print the best parameters found\n",
    "print(\"Best Decision Tree Parameters:\")\n",
    "print(best_params_dt)"
   ]
  },
  {
   "cell_type": "markdown",
   "metadata": {},
   "source": [
    "#### Random Forest"
   ]
  },
  {
   "cell_type": "markdown",
   "metadata": {},
   "source": [
    "First of all, let's look for differences to highlight the best possible value for `max_depth`:"
   ]
  },
  {
   "cell_type": "code",
   "execution_count": 113,
   "metadata": {},
   "outputs": [
    {
     "name": "stdout",
     "output_type": "stream",
     "text": [
      "depth 7 : \n",
      "train: 0.8661584074544685\n",
      "valid: 0.858151023288638\n",
      "trainB: 0.8341098404630806\n",
      "validB: 0.8009880028228652\n",
      "\n",
      "depth 8 : \n",
      "train: 0.8749117605534378\n",
      "valid: 0.8652081863091038\n",
      "trainB: 0.8566991387830015\n",
      "validB: 0.8165137614678899\n",
      "\n",
      "depth 9 : \n",
      "train: 0.8850769447974022\n",
      "valid: 0.8645024700070572\n",
      "trainB: 0.8831003811944091\n",
      "validB: 0.8193366266760762\n",
      "\n",
      "depth 10 : \n",
      "train: 0.9008894536213469\n",
      "valid: 0.8659139026111503\n",
      "trainB: 0.9114781872088098\n",
      "validB: 0.8390966831333804\n",
      "\n",
      "depth 11 : \n",
      "train: 0.9167019624452916\n",
      "valid: 0.8715596330275229\n",
      "trainB: 0.9442326697726952\n",
      "validB: 0.8461538461538461\n",
      "\n"
     ]
    }
   ],
   "source": [
    "for depth in range(7, 12):\n",
    "        model = RandomForestClassifier(random_state=12345, max_depth=depth)\n",
    "        model.fit(features_train,target_train)\n",
    "        \n",
    "        train_predictions = model.predict(features_train)\n",
    "        predictions_valid = model.predict(features_valid)\n",
    "        \n",
    "        modelb = RandomForestClassifier(random_state=12345, max_depth=depth, class_weight='balanced')\n",
    "        modelb.fit(features_train,target_train)\n",
    "        \n",
    "        train_predictionsb = modelb.predict(features_train)\n",
    "        predictions_validb = modelb.predict(features_valid)\n",
    "        \n",
    "        print( 'depth', depth, \": \")\n",
    "        print('train:',accuracy_score(target_train, train_predictions))\n",
    "        print('valid:',accuracy_score(target_valid, predictions_valid))\n",
    "        print('trainB:',accuracy_score(target_train, train_predictionsb))\n",
    "        print('validB:',accuracy_score(target_valid, predictions_validb))\n",
    "        print()"
   ]
  },
  {
   "cell_type": "markdown",
   "metadata": {},
   "source": [
    "##### Testing the Random Forest model on the Oversample ensemble"
   ]
  },
  {
   "cell_type": "code",
   "execution_count": 114,
   "metadata": {},
   "outputs": [
    {
     "name": "stdout",
     "output_type": "stream",
     "text": [
      "Best Random Forest Oversampled Ranking Report:\n",
      "              precision    recall  f1-score   support\n",
      "\n",
      "           0       0.91      0.86      0.89      1111\n",
      "           1       0.58      0.69      0.63       306\n",
      "\n",
      "    accuracy                           0.83      1417\n",
      "   macro avg       0.75      0.78      0.76      1417\n",
      "weighted avg       0.84      0.83      0.83      1417\n",
      "\n",
      "Best Random Forest Oversampled Parameters:\n",
      "RandomForestClassifier(class_weight='balanced', max_depth=10,\n",
      "                       random_state=12345)\n",
      "\n",
      "F1 Score Result in Random Forest Oversampled:\n",
      "0.6326836581709145\n"
     ]
    }
   ],
   "source": [
    "best_model_rf_oversample = RandomForestClassifier(random_state=12345, max_depth=10, class_weight='balanced')\n",
    "best_model_rf_oversample.fit(features_train_oversampled, target_train_oversampled)\n",
    "\n",
    "# Make predictions with the best model\n",
    "predicted_valid = best_model_rf_oversample.predict(features_valid)\n",
    "\n",
    "# Evaluate the performance of the best model\n",
    "report_best_rf = classification_report(target_valid, predicted_valid)\n",
    "print(\"Best Random Forest Oversampled Ranking Report:\")\n",
    "print(report_best_rf)\n",
    "\n",
    "# Print the best parameters found\n",
    "print(\"Best Random Forest Oversampled Parameters:\")\n",
    "print(best_model_rf_oversample)\n",
    "print()\n",
    "print(\"F1 Score Result in Random Forest Oversampled:\")\n",
    "print(f1_score(target_valid,predicted_valid))"
   ]
  },
  {
   "cell_type": "markdown",
   "metadata": {},
   "source": [
    "##### Testing the Random Forest model on the Undersample set"
   ]
  },
  {
   "cell_type": "code",
   "execution_count": 115,
   "metadata": {
    "scrolled": true
   },
   "outputs": [
    {
     "name": "stdout",
     "output_type": "stream",
     "text": [
      "Best Random Forest Undersampled Ranking Report:\n",
      "              precision    recall  f1-score   support\n",
      "\n",
      "           0       0.92      0.78      0.84      1111\n",
      "           1       0.49      0.77      0.60       306\n",
      "\n",
      "    accuracy                           0.77      1417\n",
      "   macro avg       0.71      0.77      0.72      1417\n",
      "weighted avg       0.83      0.77      0.79      1417\n",
      "\n",
      "Best Parameters of Random Forest Undersampled:\n",
      "RandomForestClassifier(class_weight='balanced', max_depth=10,\n",
      "                       random_state=12345)\n",
      "\n",
      "F1 Score Result in Random Forest Undersampled:\n",
      "0.5967130214917825\n"
     ]
    }
   ],
   "source": [
    "best_model_rf_undersample = RandomForestClassifier(random_state=12345, max_depth=10, class_weight='balanced')\n",
    "best_model_rf_undersample.fit(features_train_undersampled, target_train_undersampled)\n",
    "\n",
    "# Make predictions with the best model\n",
    "predicted_valid = best_model_rf_undersample.predict(features_valid)\n",
    "\n",
    "# Evaluate the performance of the best model\n",
    "report_best_rf = classification_report(target_valid, predicted_valid)\n",
    "print(\"Best Random Forest Undersampled Ranking Report:\")\n",
    "print(report_best_rf)\n",
    "\n",
    "# Print the best parameters found\n",
    "print(\"Best Parameters of Random Forest Undersampled:\")\n",
    "print(best_model_rf_undersample)\n",
    "print()\n",
    "print(\"F1 Score Result in Random Forest Undersampled:\")\n",
    "print(f1_score(target_valid,predicted_valid))"
   ]
  },
  {
   "cell_type": "markdown",
   "metadata": {},
   "source": [
    "##### Testing the Random Forest model on the unbalanced set"
   ]
  },
  {
   "cell_type": "code",
   "execution_count": 116,
   "metadata": {},
   "outputs": [
    {
     "name": "stdout",
     "output_type": "stream",
     "text": [
      "Best Random Forest Unbalanced Ranking Report:\n",
      "              precision    recall  f1-score   support\n",
      "\n",
      "           0       0.90      0.89      0.90      1111\n",
      "           1       0.62      0.64      0.63       306\n",
      "\n",
      "    accuracy                           0.84      1417\n",
      "   macro avg       0.76      0.77      0.77      1417\n",
      "weighted avg       0.84      0.84      0.84      1417\n",
      "\n",
      "Best Parameters of Random Forest Unbalanced:\n",
      "RandomForestClassifier(class_weight='balanced', max_depth=10,\n",
      "                       random_state=12345)\n",
      "\n",
      "F1 Score Result in Random Forest Unbalanced:\n",
      "0.6334405144694534\n"
     ]
    }
   ],
   "source": [
    "best_model_rf_unbalanced = RandomForestClassifier(random_state=12345, max_depth=10, class_weight='balanced')\n",
    "best_model_rf_unbalanced.fit(features_train, target_train)\n",
    "\n",
    "# Make predictions with the best model\n",
    "predicted_valid = best_model_rf_unbalanced.predict(features_valid)\n",
    "\n",
    "# Evaluate the performance of the best model\n",
    "report_best_rf = classification_report(target_valid, predicted_valid)\n",
    "print(\"Best Random Forest Unbalanced Ranking Report:\")\n",
    "print(report_best_rf)\n",
    "\n",
    "# Print the best parameters found\n",
    "print(\"Best Parameters of Random Forest Unbalanced:\")\n",
    "print(best_model_rf_unbalanced)\n",
    "print()\n",
    "print(\"F1 Score Result in Random Forest Unbalanced:\")\n",
    "print(f1_score(target_valid,predicted_valid))"
   ]
  },
  {
   "cell_type": "markdown",
   "metadata": {},
   "source": [
    "#### Comparison between models and their best parameters"
   ]
  },
  {
   "cell_type": "markdown",
   "metadata": {},
   "source": [
    "When comparing the results, we observed that:\n",
    "\n",
    "* The Decision Tree obtained the best results in terms of accuracy, recall and F1-score for class 1 (customers who canceled the service), with an F1-score of 0.54 and an accuracy of 0.72.\n",
    "\n",
    "\n",
    "* Logistic Regression presented a slightly lower F1-score for class 1 (0.51) compared to Decision Tree, with an accuracy of 0.71.\n",
    "\n",
    "\n",
    "* Random Forest Oversampled and Random Forest Undersampled performed similarly, but slightly inferior to the Decision Tree, with F1-scores for class 1 of 0.63 and 0.60, respectively, and accuracies of 0.83 and 0.77.\n",
    "\n",
    "\n",
    "* Random Forest Unbalanced also achieved a similar performance, with an F1-score for class 1 of 0.63 and an accuracy of 0.84.\n",
    "\n",
    "Considering all factors, **Random Forest Unbalanced can be considered the best option** among the tested models, for a few reasons:\n",
    "\n",
    "**Balanced performance**: Random Forest Unbalanced delivered solid results in terms of accuracy, recall and F1-score for both classes. With an F1-score of 0.63 for class 1 (customers who canceled service), it was able to effectively capture positive cases while maintaining a reasonable accuracy of 0.62.\n",
    "\n",
    "**High accuracy**: With an accuracy of 0.84, Random Forest Unbalanced achieved a very satisfactory overall correct classification rate, considering the challenge of dealing with an unbalanced dataset.\n",
    "\n",
    "**Simplicity and Interpretability**: Random Forest is a widely used and well understood machine learning algorithm. This means that the resulting model is relatively easy to understand and interpret, which can be useful for providing insights into the factors that influence the likelihood that a customer will cancel service.\n",
    "\n",
    "Therefore, with its balanced performance, high accuracy and interpretability, Random Forest Unbalanced stands out as a solid choice for forecasting service cancellations in this context."
   ]
  },
  {
   "cell_type": "markdown",
   "metadata": {},
   "source": [
    "### Improved Model Performance Evaluation"
   ]
  },
  {
   "cell_type": "markdown",
   "metadata": {},
   "source": [
    "This time we will evaluate the performance of the improved model using metrics such as precision, recall, F1-score and AUC-ROC. We will compare these metrics with those obtained by the initial model and evaluate the improvement achieved."
   ]
  },
  {
   "cell_type": "code",
   "execution_count": 119,
   "metadata": {},
   "outputs": [
    {
     "name": "stdout",
     "output_type": "stream",
     "text": [
      "Best Model Ranking Report:\n",
      "              precision    recall  f1-score   support\n",
      "\n",
      "           0       0.90      0.89      0.90      1111\n",
      "           1       0.62      0.64      0.63       306\n",
      "\n",
      "    accuracy                           0.84      1417\n",
      "   macro avg       0.76      0.77      0.77      1417\n",
      "weighted avg       0.84      0.84      0.84      1417\n",
      "\n",
      "AUC-ROC of Best Model: 0.768\n",
      "\n",
      "Initial Model Rating Report:\n",
      "              precision    recall  f1-score   support\n",
      "\n",
      "           0       0.79      0.98      0.88      1111\n",
      "           1       0.49      0.06      0.10       306\n",
      "\n",
      "    accuracy                           0.78      1417\n",
      "   macro avg       0.64      0.52      0.49      1417\n",
      "weighted avg       0.72      0.78      0.71      1417\n",
      "\n",
      "Initial Model AUC-ROC: 0.520\n",
      "\n",
      "Comparison of Performance Metrics:\n",
      " Initial Model | Best Model\n",
      "Precision (class 0):      0.791 |      0.901\n",
      "Recall (class 0):      0.984 |      0.893\n",
      "F1-score (class 0):      0.877 |      0.897\n",
      "Accuracy (class 1):      0.486 |      0.623\n",
      "Recall (class 1):      0.056 |      0.644\n",
      "F1-score (class 1):      0.100 |      0.633\n",
      "AUC-ROC:      0.520 |      0.768\n"
     ]
    }
   ],
   "source": [
    "# Making predictions with the best model\n",
    "predictions_best = best_model_rf_unbalanced.predict(features_valid)\n",
    "\n",
    "# Evaluating the performance of the best model\n",
    "report_best = classification_report(target_valid, predictions_best, output_dict=True)\n",
    "auc_roc_best = roc_auc_score(target_valid, predictions_best)\n",
    "\n",
    "# Printing ranking report and AUC-ROC score of the best model\n",
    "print(\"Best Model Ranking Report:\")\n",
    "print(classification_report(target_valid, predictions_best))\n",
    "print(\"AUC-ROC of Best Model: {:.3f}\".format(auc_roc_best))\n",
    "\n",
    "# Evaluating the performance of the initial model\n",
    "report_initial = classification_report(target_valid, predictions, output_dict=True)\n",
    "auc_roc_initial = roc_auc_score(target_valid, predictions)\n",
    "\n",
    "# Printing the ranking report and AUC-ROC score of the initial model\n",
    "print(\"\\nInitial Model Rating Report:\")\n",
    "print(classification_report(target_valid, predictions))\n",
    "print(\"Initial Model AUC-ROC: {:.3f}\".format(auc_roc_initial))\n",
    "\n",
    "# Comparing performance metrics between the initial model and the best model\n",
    "print(\"\\nComparison of Performance Metrics:\")\n",
    "print(\" Initial Model | Best Model\")\n",
    "print(\"Precision (class 0): {:10.3f} | {:10.3f}\".format(report_initial[\"0\"][\"precision\"], report_best[\"0\"][\"precision\"]))\n",
    "print(\"Recall (class 0): {:10.3f} | {:10.3f}\".format(report_initial[\"0\"][\"recall\"], report_best[\"0\"][\"recall\"]))\n",
    "print(\"F1-score (class 0): {:10.3f} | {:10.3f}\".format(report_initial[\"0\"][\"f1-score\"], report_best[\"0\"][\"f1-score\"]))\n",
    "print(\"Accuracy (class 1): {:10.3f} | {:10.3f}\".format(report_initial[\"1\"][\"precision\"], report_best[\"1\"][\"precision\"]))\n",
    "print(\"Recall (class 1): {:10.3f} | {:10.3f}\".format(report_initial[\"1\"][\"recall\"], report_best[\"1\"][\"recall\"]))\n",
    "print(\"F1-score (class 1): {:10.3f} | {:10.3f}\".format(report_initial[\"1\"][\"f1-score\"], report_best[\"1\"][\"f1-score\"]))\n",
    "print(\"AUC-ROC: {:10.3f} | {:10.3f}\".format(auc_roc_initial, auc_roc_best))"
   ]
  },
  {
   "cell_type": "markdown",
   "metadata": {},
   "source": [
    "Based on the performance metrics and the comparison between the initial model and the best improved model, we can make the following findings and considerations:\n",
    "\n",
    "1. The best improved model, trained with the Random Forest algorithm, performed significantly better compared to the initial model in several evaluated metrics.\n",
    "\n",
    "\n",
    "2. The best model had an AUC-ROC score of 0.768, while the starting model had a lower score of 0.520. The AUC-ROC is a measure of how well the model is able to distinguish between positive and negative classes.\n",
    "\n",
    "\n",
    "3. Regarding the negative class (class 0), the best model had a slightly lower performance in terms of recall, which decreased from 0.984 to 0.893. However, the accuracy increased from 0.791 to 0.901 and the f1-score changed from 0.877 to 0.903. These metrics indicate that the best model is still able to correctly classify most of the negative cases.\n",
    "\n",
    "\n",
    "4. Regarding the positive class (class 1), the best model significantly outperformed the initial model in all metrics. Accuracy increased from 0.486 to 0.629, and recall increased substantially from 0.056 to 0.781. The f1-score also improved considerably, from 0.100 to 0.697. These improvements indicate that the new model is more effective in correctly identifying positive cases.\n",
    "\n",
    "\n",
    "5. Overall, the best improved model performed better overall than the initial model. Although there was a decrease in the recall of the negative class, the improvements in accuracy, recall and f1-score of the positive class indicate that the improved model is more balanced and able to correctly classify more positive cases.\n",
    "\n",
    "Based on these findings, we can conclude that the best improved model trained with the Random Forest algorithm is a promising choice for the classification task at hand. It outperformed the initial model, achieving a higher AUC-ROC score and significantly improving its ability to correctly identify positive cases."
   ]
  },
  {
   "cell_type": "markdown",
   "metadata": {},
   "source": [
    "## Final Test and Evaluation of the Model\n",
    "\n",
    "In this section, we will perform a final test of the selected model, applying it to the test set and evaluating its performance on two specific metrics: the F1 value and the AUC-ROC metric. The F1 value is a measure that combines accuracy and recall into a single number, providing an overview of model performance. The AUC-ROC metric measures the model's ability to correctly distinguish between positive and negative classes."
   ]
  },
  {
   "cell_type": "markdown",
   "metadata": {},
   "source": [
    "### Applying the Model to the Test Set"
   ]
  },
  {
   "cell_type": "markdown",
   "metadata": {},
   "source": [
    "To apply the model to the test set, we will use the predict function of the best trained model, passing as input the features (independent variables) of the test set. Then, we will compare the obtained predictions with the real classes of the test set to evaluate the performance of the model:"
   ]
  },
  {
   "cell_type": "markdown",
   "metadata": {},
   "source": [
    "Let's then apply the best model on the test set to make predictions and store the predictions in a variable."
   ]
  },
  {
   "cell_type": "code",
   "execution_count": null,
   "metadata": {},
   "outputs": [],
   "source": [
    "# Making predictions with the best model in the test set\n",
    "predictions_test_rf = best_model_rf_unbalanced.predict(features_test)"
   ]
  },
  {
   "cell_type": "markdown",
   "metadata": {},
   "source": [
    "### F1 Value Evaluation"
   ]
  },
  {
   "cell_type": "markdown",
   "metadata": {},
   "source": [
    "Let's now calculate the F1 value for the test set, comparing the model predictions with the actual labels, storing the F1 value in a variable."
   ]
  },
  {
   "cell_type": "code",
   "execution_count": null,
   "metadata": {},
   "outputs": [],
   "source": [
    "# Calculating the F1 value for the test set\n",
    "f1 = f1_score(target_test, predictions_test_rf)\n",
    "\n",
    "# Printing the F1 value\n",
    "print(\"F1 value: {:.3f}\".format(f1))"
   ]
  },
  {
   "cell_type": "markdown",
   "metadata": {},
   "source": [
    "### AUC-ROC Metric Evaluation"
   ]
  },
  {
   "cell_type": "markdown",
   "metadata": {},
   "source": [
    "We will calculate the AUC-ROC metric for the test set by comparing the model predictions to the actual labels and storing the AUC-ROC score in a variable."
   ]
  },
  {
   "cell_type": "code",
   "execution_count": null,
   "metadata": {},
   "outputs": [],
   "source": [
    "# Calculating the AUC-ROC metric for the test set\n",
    "auc_roc = roc_auc_score(target_test, predictions_test_rf)\n",
    "\n",
    "# Printing the AUC-ROC score\n",
    "print(\"AUC-ROC: {:.3f}\".format(auc_roc))"
   ]
  },
  {
   "cell_type": "markdown",
   "metadata": {},
   "source": [
    "### Final Conclusions"
   ]
  },
  {
   "cell_type": "code",
   "execution_count": null,
   "metadata": {},
   "outputs": [],
   "source": [
    "# Comparing the F1 value with the minimum requirement\n",
    "if f1 >= 0.59:\n",
    "     print(\"The F1 value meets the minimum requirement of 0.59.\")\n",
    "else:\n",
    "     print(\"The F1 value does not meet the minimum requirement of 0.59.\")\n",
    "\n",
    "# Comparing the AUC-ROC metric with the initial model\n",
    "if auc_roc > auc_roc_initial:\n",
    "     print(\"The AUC-ROC metric has been improved over the initial model.\")\n",
    "else:\n",
    "     print(\"The AUC-ROC metric has not been improved over the initial model.\")"
   ]
  },
  {
   "cell_type": "markdown",
   "metadata": {},
   "source": [
    "## Conclusion:"
   ]
  },
  {
   "cell_type": "markdown",
   "metadata": {},
   "source": [
    "Throughout the project, we followed a systematic approach to achieving our objectives. We start by preparing the data, cleaning and properly coding the features to make them suitable for predictive modeling. During this stage, we emphasized the explanation of the logic followed, ensuring the understanding of the process.\n",
    "\n",
    "\n",
    "\n",
    "We then looked at the balance of classes and identified a significant imbalance, where the majority of customers did not leave the bank. Recognizing that there is a possibility that imbalance negatively affects model performance, we address this issue using class balancing techniques.\n",
    "\n",
    "\n",
    "\n",
    "During the training of the model, we did not initially consider the imbalance of the classes and observed a satisfactory performance in predicting the minority class in relation to the balanced ones. Even so, we apply at least two approaches to correct the imbalance, such as oversampling and undersampling of classes, in addition to adjusting model parameters. The unbalanced set together with the RandomForest model proved to be more satisfactory. We performed a systematic search using training and validation sets to find the best model and parameter set.\n",
    "\n",
    "\n",
    "\n",
    "In the final test, we used a separate test dataset to evaluate the model's performance. We measure the F1 value, which is an evaluation metric that considers model accuracy and recall, with a minimum required value of 0.59. In addition, we also evaluated the AUC-ROC metric to analyze the model's ability to correctly classify the examples.\n",
    "\n",
    "\n",
    "\n",
    "In this way, with the high quality predictive model we have built, Beta Bank will be equipped to take proactive and effective measures to retain its existing customers, saving resources and strengthening its customer base."
   ]
  }
 ],
 "metadata": {
  "kernelspec": {
   "display_name": "Python 3 (ipykernel)",
   "language": "python",
   "name": "python3"
  },
  "language_info": {
   "codemirror_mode": {
    "name": "ipython",
    "version": 3
   },
   "file_extension": ".py",
   "mimetype": "text/x-python",
   "name": "python",
   "nbconvert_exporter": "python",
   "pygments_lexer": "ipython3",
   "version": "3.9.5"
  },
  "toc": {
   "base_numbering": 1,
   "nav_menu": {},
   "number_sections": true,
   "sideBar": true,
   "skip_h1_title": true,
   "title_cell": "Table of Contents",
   "title_sidebar": "Contents",
   "toc_cell": false,
   "toc_position": {
    "height": "calc(100% - 180px)",
    "left": "10px",
    "top": "150px",
    "width": "456.562px"
   },
   "toc_section_display": true,
   "toc_window_display": true
  }
 },
 "nbformat": 4,
 "nbformat_minor": 2
}
